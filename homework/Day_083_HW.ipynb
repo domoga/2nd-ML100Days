{
 "cells": [
  {
   "cell_type": "markdown",
   "metadata": {},
   "source": [
    "## Work\n",
    "1. 試比較有 BN 在 Batch_size = 2, 16, 32, 128, 256 下的差異\n",
    "2. 請嘗試將 BN 放在 Activation 之前，並比較訓練結果\n",
    "3. 請於 BN 放在 Input Layer 後，並比較結果"
   ]
  },
  {
   "cell_type": "code",
   "execution_count": 1,
   "metadata": {},
   "outputs": [
    {
     "name": "stderr",
     "output_type": "stream",
     "text": [
      "Using TensorFlow backend.\n"
     ]
    }
   ],
   "source": [
    "import os\n",
    "import keras\n",
    "import itertools\n",
    "# Disable GPU\n",
    "os.environ[\"CUDA_VISIBLE_DEVICES\"] = \"\""
   ]
  },
  {
   "cell_type": "code",
   "execution_count": 2,
   "metadata": {},
   "outputs": [],
   "source": [
    "train, test = keras.datasets.cifar10.load_data()"
   ]
  },
  {
   "cell_type": "code",
   "execution_count": 3,
   "metadata": {},
   "outputs": [],
   "source": [
    "## 資料前處理\n",
    "def preproc_x(x, flatten=True):\n",
    "    x = x / 255.\n",
    "    if flatten:\n",
    "        x = x.reshape((len(x), -1))\n",
    "    return x\n",
    "\n",
    "def preproc_y(y, num_classes=10):\n",
    "    if y.shape[-1] == 1:\n",
    "        y = keras.utils.to_categorical(y, num_classes)\n",
    "    return y    "
   ]
  },
  {
   "cell_type": "code",
   "execution_count": 4,
   "metadata": {},
   "outputs": [],
   "source": [
    "x_train, y_train = train\n",
    "x_test, y_test = test\n",
    "\n",
    "# Preproc the inputs\n",
    "x_train = preproc_x(x_train)\n",
    "x_test = preproc_x(x_test)\n",
    "\n",
    "# Preprc the outputs\n",
    "y_train = preproc_y(y_train)\n",
    "y_test = preproc_y(y_test)"
   ]
  },
  {
   "cell_type": "code",
   "execution_count": 5,
   "metadata": {},
   "outputs": [],
   "source": [
    "from keras.layers import BatchNormalization\n",
    "\n",
    "def build_mlp(input_shape, output_units=10, num_neurons=[512, 256, 128]):\n",
    "    input_layer = keras.layers.Input(input_shape)\n",
    "\n",
    "    x = BatchNormalization()(input_layer)\n",
    "    \n",
    "    for i, n_units in enumerate(num_neurons):\n",
    "        if i == 0:\n",
    "            x = keras.layers.Dense(units=n_units, \n",
    "                                   activation=\"relu\", \n",
    "                                   name=\"hidden_layer\"+str(i+1))(x)\n",
    "            \n",
    "            x = BatchNormalization()(x)\n",
    "            \n",
    "        else:\n",
    "\n",
    "            x = keras.layers.Dense(units=n_units, \n",
    "                                   activation=\"relu\", \n",
    "                                   name=\"hidden_layer\"+str(i+1))(x)\n",
    "    \n",
    "            x = BatchNormalization()(x)\n",
    "            \n",
    "    out = keras.layers.Dense(units=output_units, activation=\"softmax\", name=\"output\")(x)\n",
    "    \n",
    "    model = keras.models.Model(inputs=[input_layer], outputs=[out])\n",
    "    return model"
   ]
  },
  {
   "cell_type": "code",
   "execution_count": 6,
   "metadata": {},
   "outputs": [],
   "source": [
    "## 超參數設定\n",
    "LEARNING_RATE = 1e-3\n",
    "EPOCHS = 50\n",
    "BATCH_SIZE = 256\n",
    "MOMENTUM = 0.95"
   ]
  },
  {
   "cell_type": "code",
   "execution_count": 7,
   "metadata": {
    "scrolled": true
   },
   "outputs": [
    {
     "name": "stderr",
     "output_type": "stream",
     "text": [
      "WARNING: Logging before flag parsing goes to stderr.\n",
      "W0721 15:32:31.188524  5732 deprecation_wrapper.py:119] From D:\\Anaconda3\\lib\\site-packages\\keras\\backend\\tensorflow_backend.py:74: The name tf.get_default_graph is deprecated. Please use tf.compat.v1.get_default_graph instead.\n",
      "\n",
      "W0721 15:32:31.591728  5732 deprecation_wrapper.py:119] From D:\\Anaconda3\\lib\\site-packages\\keras\\backend\\tensorflow_backend.py:517: The name tf.placeholder is deprecated. Please use tf.compat.v1.placeholder instead.\n",
      "\n",
      "W0721 15:32:32.318933  5732 deprecation_wrapper.py:119] From D:\\Anaconda3\\lib\\site-packages\\keras\\backend\\tensorflow_backend.py:133: The name tf.placeholder_with_default is deprecated. Please use tf.compat.v1.placeholder_with_default instead.\n",
      "\n",
      "W0721 15:32:32.352134  5732 deprecation_wrapper.py:119] From D:\\Anaconda3\\lib\\site-packages\\keras\\backend\\tensorflow_backend.py:4138: The name tf.random_uniform is deprecated. Please use tf.random.uniform instead.\n",
      "\n",
      "W0721 15:32:32.705339  5732 deprecation_wrapper.py:119] From D:\\Anaconda3\\lib\\site-packages\\keras\\optimizers.py:790: The name tf.train.Optimizer is deprecated. Please use tf.compat.v1.train.Optimizer instead.\n",
      "\n",
      "W0721 15:32:32.705339  5732 deprecation_wrapper.py:119] From D:\\Anaconda3\\lib\\site-packages\\keras\\backend\\tensorflow_backend.py:3295: The name tf.log is deprecated. Please use tf.math.log instead.\n",
      "\n"
     ]
    },
    {
     "name": "stdout",
     "output_type": "stream",
     "text": [
      "_________________________________________________________________\n",
      "Layer (type)                 Output Shape              Param #   \n",
      "=================================================================\n",
      "input_1 (InputLayer)         (None, 3072)              0         \n",
      "_________________________________________________________________\n",
      "batch_normalization_1 (Batch (None, 3072)              12288     \n",
      "_________________________________________________________________\n",
      "hidden_layer1 (Dense)        (None, 512)               1573376   \n",
      "_________________________________________________________________\n",
      "batch_normalization_2 (Batch (None, 512)               2048      \n",
      "_________________________________________________________________\n",
      "hidden_layer2 (Dense)        (None, 256)               131328    \n",
      "_________________________________________________________________\n",
      "batch_normalization_3 (Batch (None, 256)               1024      \n",
      "_________________________________________________________________\n",
      "hidden_layer3 (Dense)        (None, 128)               32896     \n",
      "_________________________________________________________________\n",
      "batch_normalization_4 (Batch (None, 128)               512       \n",
      "_________________________________________________________________\n",
      "output (Dense)               (None, 10)                1290      \n",
      "=================================================================\n",
      "Total params: 1,754,762\n",
      "Trainable params: 1,746,826\n",
      "Non-trainable params: 7,936\n",
      "_________________________________________________________________\n"
     ]
    },
    {
     "name": "stderr",
     "output_type": "stream",
     "text": [
      "W0721 15:32:32.898342  5732 deprecation.py:323] From D:\\Anaconda3\\lib\\site-packages\\tensorflow\\python\\ops\\math_grad.py:1250: add_dispatch_support.<locals>.wrapper (from tensorflow.python.ops.array_ops) is deprecated and will be removed in a future version.\n",
      "Instructions for updating:\n",
      "Use tf.where in 2.0, which has the same broadcast rule as np.where\n"
     ]
    },
    {
     "name": "stdout",
     "output_type": "stream",
     "text": [
      "Train on 50000 samples, validate on 10000 samples\n",
      "Epoch 1/50\n",
      "50000/50000 [==============================] - 19s 374us/step - loss: 1.8451 - acc: 0.3628 - val_loss: 1.6244 - val_acc: 0.4311\n",
      "Epoch 2/50\n",
      "50000/50000 [==============================] - 22s 444us/step - loss: 1.4975 - acc: 0.4728 - val_loss: 1.5293 - val_acc: 0.4543\n",
      "Epoch 3/50\n",
      "50000/50000 [==============================] - 26s 518us/step - loss: 1.3754 - acc: 0.5173 - val_loss: 1.4784 - val_acc: 0.4754\n",
      "Epoch 4/50\n",
      "50000/50000 [==============================] - 26s 519us/step - loss: 1.2843 - acc: 0.5514 - val_loss: 1.4516 - val_acc: 0.4892\n",
      "Epoch 5/50\n",
      "50000/50000 [==============================] - 26s 524us/step - loss: 1.2042 - acc: 0.5800 - val_loss: 1.4302 - val_acc: 0.4968\n",
      "Epoch 6/50\n",
      "50000/50000 [==============================] - 26s 516us/step - loss: 1.1290 - acc: 0.6086 - val_loss: 1.4308 - val_acc: 0.4977\n",
      "Epoch 7/50\n",
      "50000/50000 [==============================] - 26s 517us/step - loss: 1.0634 - acc: 0.6324 - val_loss: 1.4236 - val_acc: 0.5035\n",
      "Epoch 8/50\n",
      "50000/50000 [==============================] - 26s 515us/step - loss: 1.0003 - acc: 0.6563 - val_loss: 1.4302 - val_acc: 0.5032\n",
      "Epoch 9/50\n",
      "50000/50000 [==============================] - 26s 516us/step - loss: 0.9353 - acc: 0.6790 - val_loss: 1.4370 - val_acc: 0.5082\n",
      "Epoch 10/50\n",
      "50000/50000 [==============================] - 27s 531us/step - loss: 0.8754 - acc: 0.7014 - val_loss: 1.4588 - val_acc: 0.5017\n",
      "Epoch 11/50\n",
      "50000/50000 [==============================] - 27s 535us/step - loss: 0.8175 - acc: 0.7249 - val_loss: 1.4657 - val_acc: 0.5046\n",
      "Epoch 12/50\n",
      "50000/50000 [==============================] - 26s 521us/step - loss: 0.7606 - acc: 0.7455 - val_loss: 1.4900 - val_acc: 0.5053\n",
      "Epoch 13/50\n",
      "50000/50000 [==============================] - 26s 522us/step - loss: 0.7065 - acc: 0.7667 - val_loss: 1.5206 - val_acc: 0.5070\n",
      "Epoch 14/50\n",
      "50000/50000 [==============================] - 26s 530us/step - loss: 0.6540 - acc: 0.7846 - val_loss: 1.5446 - val_acc: 0.5003\n",
      "Epoch 15/50\n",
      "50000/50000 [==============================] - 26s 512us/step - loss: 0.6000 - acc: 0.8065 - val_loss: 1.5762 - val_acc: 0.5012\n",
      "Epoch 16/50\n",
      "50000/50000 [==============================] - 26s 522us/step - loss: 0.5539 - acc: 0.8237 - val_loss: 1.5902 - val_acc: 0.5014\n",
      "Epoch 17/50\n",
      "50000/50000 [==============================] - 27s 534us/step - loss: 0.5057 - acc: 0.8419 - val_loss: 1.6353 - val_acc: 0.5047\n",
      "Epoch 18/50\n",
      "50000/50000 [==============================] - 26s 510us/step - loss: 0.4622 - acc: 0.8566 - val_loss: 1.6568 - val_acc: 0.5089\n",
      "Epoch 19/50\n",
      "50000/50000 [==============================] - 26s 514us/step - loss: 0.4180 - acc: 0.8736 - val_loss: 1.7065 - val_acc: 0.5095\n",
      "Epoch 20/50\n",
      "50000/50000 [==============================] - 26s 512us/step - loss: 0.3807 - acc: 0.8861 - val_loss: 1.7510 - val_acc: 0.5029\n",
      "Epoch 21/50\n",
      "50000/50000 [==============================] - 26s 512us/step - loss: 0.3525 - acc: 0.8967 - val_loss: 1.7953 - val_acc: 0.4955\n",
      "Epoch 22/50\n",
      "50000/50000 [==============================] - 26s 511us/step - loss: 0.3209 - acc: 0.9091 - val_loss: 1.8242 - val_acc: 0.4995\n",
      "Epoch 23/50\n",
      "50000/50000 [==============================] - 26s 511us/step - loss: 0.2869 - acc: 0.9202 - val_loss: 1.8725 - val_acc: 0.5036\n",
      "Epoch 24/50\n",
      "50000/50000 [==============================] - 26s 511us/step - loss: 0.2573 - acc: 0.9309 - val_loss: 1.9351 - val_acc: 0.4940\n",
      "Epoch 25/50\n",
      "50000/50000 [==============================] - 26s 513us/step - loss: 0.2314 - acc: 0.9389 - val_loss: 1.9447 - val_acc: 0.4985\n",
      "Epoch 26/50\n",
      "50000/50000 [==============================] - 26s 512us/step - loss: 0.2143 - acc: 0.9449 - val_loss: 1.9803 - val_acc: 0.5004\n",
      "Epoch 27/50\n",
      "50000/50000 [==============================] - 26s 525us/step - loss: 0.1887 - acc: 0.9535 - val_loss: 2.0284 - val_acc: 0.4994\n",
      "Epoch 28/50\n",
      "50000/50000 [==============================] - 27s 539us/step - loss: 0.1752 - acc: 0.9558 - val_loss: 2.0698 - val_acc: 0.5003\n",
      "Epoch 29/50\n",
      "50000/50000 [==============================] - 26s 512us/step - loss: 0.1585 - acc: 0.9626 - val_loss: 2.1074 - val_acc: 0.5018\n",
      "Epoch 30/50\n",
      "50000/50000 [==============================] - 27s 547us/step - loss: 0.1381 - acc: 0.9681 - val_loss: 2.1361 - val_acc: 0.4976\n",
      "Epoch 31/50\n",
      "50000/50000 [==============================] - 26s 513us/step - loss: 0.1320 - acc: 0.9701 - val_loss: 2.1750 - val_acc: 0.4995\n",
      "Epoch 32/50\n",
      "50000/50000 [==============================] - 26s 512us/step - loss: 0.1184 - acc: 0.9743 - val_loss: 2.2290 - val_acc: 0.5004\n",
      "Epoch 33/50\n",
      "50000/50000 [==============================] - 27s 543us/step - loss: 0.1045 - acc: 0.9786 - val_loss: 2.2334 - val_acc: 0.5019\n",
      "Epoch 34/50\n",
      "50000/50000 [==============================] - 26s 519us/step - loss: 0.1002 - acc: 0.9788 - val_loss: 2.2668 - val_acc: 0.4998\n",
      "Epoch 35/50\n",
      "50000/50000 [==============================] - 26s 513us/step - loss: 0.0895 - acc: 0.9828 - val_loss: 2.2960 - val_acc: 0.5008\n",
      "Epoch 36/50\n",
      "50000/50000 [==============================] - 26s 529us/step - loss: 0.0868 - acc: 0.9822 - val_loss: 2.3414 - val_acc: 0.4947\n",
      "Epoch 37/50\n",
      "50000/50000 [==============================] - 26s 524us/step - loss: 0.0824 - acc: 0.9834 - val_loss: 2.3478 - val_acc: 0.5043\n",
      "Epoch 38/50\n",
      "50000/50000 [==============================] - 26s 514us/step - loss: 0.0742 - acc: 0.9860 - val_loss: 2.3805 - val_acc: 0.5052\n",
      "Epoch 39/50\n",
      "50000/50000 [==============================] - 26s 520us/step - loss: 0.0675 - acc: 0.9873 - val_loss: 2.4115 - val_acc: 0.5053\n",
      "Epoch 40/50\n",
      "50000/50000 [==============================] - 26s 518us/step - loss: 0.0577 - acc: 0.9906 - val_loss: 2.4494 - val_acc: 0.4980\n",
      "Epoch 41/50\n",
      "50000/50000 [==============================] - 26s 517us/step - loss: 0.0567 - acc: 0.9905 - val_loss: 2.4301 - val_acc: 0.5070\n",
      "Epoch 42/50\n",
      "50000/50000 [==============================] - 26s 521us/step - loss: 0.0487 - acc: 0.9926 - val_loss: 2.4906 - val_acc: 0.5064\n",
      "Epoch 43/50\n",
      "50000/50000 [==============================] - 26s 513us/step - loss: 0.0500 - acc: 0.9915 - val_loss: 2.5088 - val_acc: 0.4993\n",
      "Epoch 44/50\n",
      "50000/50000 [==============================] - 26s 511us/step - loss: 0.0451 - acc: 0.9931 - val_loss: 2.5372 - val_acc: 0.4970\n",
      "Epoch 45/50\n",
      "50000/50000 [==============================] - 26s 528us/step - loss: 0.0414 - acc: 0.9938 - val_loss: 2.5641 - val_acc: 0.5040\n",
      "Epoch 46/50\n",
      "50000/50000 [==============================] - 28s 559us/step - loss: 0.0386 - acc: 0.9945 - val_loss: 2.5667 - val_acc: 0.4991\n",
      "Epoch 47/50\n",
      "50000/50000 [==============================] - 28s 552us/step - loss: 0.0353 - acc: 0.9954 - val_loss: 2.5970 - val_acc: 0.5018\n",
      "Epoch 48/50\n",
      "50000/50000 [==============================] - 29s 576us/step - loss: 0.0336 - acc: 0.9958 - val_loss: 2.5955 - val_acc: 0.5000\n",
      "Epoch 49/50\n",
      "50000/50000 [==============================] - 27s 542us/step - loss: 0.0325 - acc: 0.9959 - val_loss: 2.6135 - val_acc: 0.5075\n",
      "Epoch 50/50\n",
      "50000/50000 [==============================] - 27s 544us/step - loss: 0.0343 - acc: 0.9947 - val_loss: 2.6325 - val_acc: 0.5039\n"
     ]
    }
   ],
   "source": [
    "model = build_mlp(input_shape=x_train.shape[1:])\n",
    "model.summary()\n",
    "optimizer = keras.optimizers.SGD(lr=LEARNING_RATE, nesterov=True, momentum=MOMENTUM)\n",
    "model.compile(loss=\"categorical_crossentropy\", metrics=[\"accuracy\"], optimizer=optimizer)\n",
    "\n",
    "model.fit(x_train, y_train, \n",
    "          epochs=EPOCHS, \n",
    "          batch_size=BATCH_SIZE, \n",
    "          validation_data=(x_test, y_test), \n",
    "          shuffle=True)\n",
    "\n",
    "# Collect results\n",
    "train_loss = model.history.history[\"loss\"]\n",
    "valid_loss = model.history.history[\"val_loss\"]\n",
    "train_acc = model.history.history[\"acc\"]\n",
    "valid_acc = model.history.history[\"val_acc\"]"
   ]
  },
  {
   "cell_type": "code",
   "execution_count": 8,
   "metadata": {},
   "outputs": [
    {
     "data": {
      "image/png": "[encoded data removed]",
      "text/plain": [
       "<Figure size 432x288 with 1 Axes>"
      ]
     },
     "metadata": {
      "needs_background": "light"
     },
     "output_type": "display_data"
    },
    {
     "data": {
      "image/png": "[encoded data removed]",
      "text/plain": [
       "<Figure size 432x288 with 1 Axes>"
      ]
     },
     "metadata": {
      "needs_background": "light"
     },
     "output_type": "display_data"
    }
   ],
   "source": [
    "import matplotlib.pyplot as plt\n",
    "%matplotlib inline\n",
    "\n",
    "plt.plot(range(len(train_loss)), train_loss, label=\"train loss\")\n",
    "plt.plot(range(len(valid_loss)), valid_loss, label=\"valid loss\")\n",
    "plt.legend()\n",
    "plt.title(\"Loss\")\n",
    "plt.show()\n",
    "\n",
    "plt.plot(range(len(train_acc)), train_acc, label=\"train accuracy\")\n",
    "plt.plot(range(len(valid_acc)), valid_acc, label=\"valid accuracy\")\n",
    "plt.legend()\n",
    "plt.title(\"Accuracy\")\n",
    "plt.show()"
   ]
  }
 ],
 "metadata": {
  "kernelspec": {
   "display_name": "Python 3",
   "language": "python",
   "name": "python3"
  },
  "language_info": {
   "codemirror_mode": {
    "name": "ipython",
    "version": 3
   },
   "file_extension": ".py",
   "mimetype": "text/x-python",
   "name": "python",
   "nbconvert_exporter": "python",
   "pygments_lexer": "ipython3",
   "version": "3.7.3"
  }
 },
 "nbformat": 4,
 "nbformat_minor": 2
}
