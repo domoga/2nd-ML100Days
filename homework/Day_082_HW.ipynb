{
 "cells": [
  {
   "cell_type": "markdown",
   "metadata": {},
   "source": [
    "## Work\n",
    "1. 請比較使用不同層數以及不同 Dropout rate 對訓練的效果\n",
    "2. 將 optimizer 改成使用 Adam 並加上適當的 dropout rate 檢視結果"
   ]
  },
  {
   "cell_type": "code",
   "execution_count": 1,
   "metadata": {},
   "outputs": [
    {
     "name": "stderr",
     "output_type": "stream",
     "text": [
      "Using TensorFlow backend.\n"
     ]
    }
   ],
   "source": [
    "import os\n",
    "import keras\n",
    "import itertools\n",
    "# Disable GPU\n",
    "os.environ[\"CUDA_VISIBLE_DEVICES\"] = \"\""
   ]
  },
  {
   "cell_type": "code",
   "execution_count": 2,
   "metadata": {},
   "outputs": [],
   "source": [
    "train, test = keras.datasets.cifar10.load_data()"
   ]
  },
  {
   "cell_type": "code",
   "execution_count": 3,
   "metadata": {},
   "outputs": [],
   "source": [
    "## 資料前處理\n",
    "def preproc_x(x, flatten=True):\n",
    "    x = x / 255.\n",
    "    if flatten:\n",
    "        x = x.reshape((len(x), -1))\n",
    "    return x\n",
    "\n",
    "def preproc_y(y, num_classes=10):\n",
    "    if y.shape[-1] == 1:\n",
    "        y = keras.utils.to_categorical(y, num_classes)\n",
    "    return y    "
   ]
  },
  {
   "cell_type": "code",
   "execution_count": 4,
   "metadata": {},
   "outputs": [],
   "source": [
    "x_train, y_train = train\n",
    "x_test, y_test = test\n",
    "\n",
    "# Preproc the inputs\n",
    "x_train = preproc_x(x_train)\n",
    "x_test = preproc_x(x_test)\n",
    "\n",
    "# Preprc the outputs\n",
    "y_train = preproc_y(y_train)\n",
    "y_test = preproc_y(y_test)"
   ]
  },
  {
   "cell_type": "code",
   "execution_count": 5,
   "metadata": {},
   "outputs": [],
   "source": [
    "from keras.layers import Dropout\n",
    "\n",
    "def build_mlp(input_shape, output_units=10, num_neurons=[512, 256, 128, 64], drp_ratio=0.5):\n",
    "    input_layer = keras.layers.Input(input_shape)\n",
    "    \n",
    "    for i, n_units in enumerate(num_neurons):\n",
    "        if i == 0:\n",
    "            x = keras.layers.Dense(units=n_units, \n",
    "                                   activation=\"relu\", \n",
    "                                   name=\"hidden_layer\"+str(i+1))(input_layer)\n",
    "            x = Dropout(drp_ratio)(x)\n",
    "        else:\n",
    "            x = keras.layers.Dense(units=n_units, \n",
    "                                   activation=\"relu\", \n",
    "                                   name=\"hidden_layer\"+str(i+1))(x)\n",
    "            x = Dropout(drp_ratio)(x)\n",
    "    \n",
    "    out = keras.layers.Dense(units=output_units, activation=\"softmax\", name=\"output\")(x)\n",
    "    \n",
    "    model = keras.models.Model(inputs=[input_layer], outputs=[out])\n",
    "    return model"
   ]
  },
  {
   "cell_type": "code",
   "execution_count": 6,
   "metadata": {},
   "outputs": [],
   "source": [
    "## 超參數設定\n",
    "LEARNING_RATE = 1e-3\n",
    "EPOCHS = 50\n",
    "BATCH_SIZE = 256\n",
    "MOMENTUM = 0.95\n",
    "Dropout_EXP = 0.25"
   ]
  },
  {
   "cell_type": "code",
   "execution_count": 7,
   "metadata": {
    "scrolled": true
   },
   "outputs": [
    {
     "name": "stderr",
     "output_type": "stream",
     "text": [
      "WARNING: Logging before flag parsing goes to stderr.\n",
      "W0718 20:49:18.452961 37784 deprecation_wrapper.py:119] From C:\\anaconda3\\lib\\site-packages\\keras\\backend\\tensorflow_backend.py:74: The name tf.get_default_graph is deprecated. Please use tf.compat.v1.get_default_graph instead.\n",
      "\n",
      "W0718 20:49:18.472916 37784 deprecation_wrapper.py:119] From C:\\anaconda3\\lib\\site-packages\\keras\\backend\\tensorflow_backend.py:517: The name tf.placeholder is deprecated. Please use tf.compat.v1.placeholder instead.\n",
      "\n",
      "W0718 20:49:18.475904 37784 deprecation_wrapper.py:119] From C:\\anaconda3\\lib\\site-packages\\keras\\backend\\tensorflow_backend.py:4138: The name tf.random_uniform is deprecated. Please use tf.random.uniform instead.\n",
      "\n",
      "W0718 20:49:18.495846 37784 deprecation_wrapper.py:119] From C:\\anaconda3\\lib\\site-packages\\keras\\backend\\tensorflow_backend.py:133: The name tf.placeholder_with_default is deprecated. Please use tf.compat.v1.placeholder_with_default instead.\n",
      "\n",
      "W0718 20:49:18.503825 37784 deprecation.py:506] From C:\\anaconda3\\lib\\site-packages\\keras\\backend\\tensorflow_backend.py:3445: calling dropout (from tensorflow.python.ops.nn_ops) with keep_prob is deprecated and will be removed in a future version.\n",
      "Instructions for updating:\n",
      "Please use `rate` instead of `keep_prob`. Rate should be set to `rate = 1 - keep_prob`.\n",
      "W0718 20:49:18.631480 37784 deprecation_wrapper.py:119] From C:\\anaconda3\\lib\\site-packages\\keras\\optimizers.py:790: The name tf.train.Optimizer is deprecated. Please use tf.compat.v1.train.Optimizer instead.\n",
      "\n",
      "W0718 20:49:18.640456 37784 deprecation_wrapper.py:119] From C:\\anaconda3\\lib\\site-packages\\keras\\backend\\tensorflow_backend.py:3295: The name tf.log is deprecated. Please use tf.math.log instead.\n",
      "\n"
     ]
    },
    {
     "name": "stdout",
     "output_type": "stream",
     "text": [
      "_________________________________________________________________\n",
      "Layer (type)                 Output Shape              Param #   \n",
      "=================================================================\n",
      "input_1 (InputLayer)         (None, 3072)              0         \n",
      "_________________________________________________________________\n",
      "hidden_layer1 (Dense)        (None, 512)               1573376   \n",
      "_________________________________________________________________\n",
      "dropout_1 (Dropout)          (None, 512)               0         \n",
      "_________________________________________________________________\n",
      "hidden_layer2 (Dense)        (None, 256)               131328    \n",
      "_________________________________________________________________\n",
      "dropout_2 (Dropout)          (None, 256)               0         \n",
      "_________________________________________________________________\n",
      "hidden_layer3 (Dense)        (None, 128)               32896     \n",
      "_________________________________________________________________\n",
      "dropout_3 (Dropout)          (None, 128)               0         \n",
      "_________________________________________________________________\n",
      "hidden_layer4 (Dense)        (None, 64)                8256      \n",
      "_________________________________________________________________\n",
      "dropout_4 (Dropout)          (None, 64)                0         \n",
      "_________________________________________________________________\n",
      "output (Dense)               (None, 10)                650       \n",
      "=================================================================\n",
      "Total params: 1,746,506\n",
      "Trainable params: 1,746,506\n",
      "Non-trainable params: 0\n",
      "_________________________________________________________________\n"
     ]
    },
    {
     "name": "stderr",
     "output_type": "stream",
     "text": [
      "W0718 20:49:18.794042 37784 deprecation.py:323] From C:\\anaconda3\\lib\\site-packages\\tensorflow\\python\\ops\\math_grad.py:1250: add_dispatch_support.<locals>.wrapper (from tensorflow.python.ops.array_ops) is deprecated and will be removed in a future version.\n",
      "Instructions for updating:\n",
      "Use tf.where in 2.0, which has the same broadcast rule as np.where\n"
     ]
    },
    {
     "name": "stdout",
     "output_type": "stream",
     "text": [
      "Train on 50000 samples, validate on 10000 samples\n",
      "Epoch 1/50\n",
      "50000/50000 [==============================] - 8s 163us/step - loss: 2.2555 - acc: 0.1464 - val_loss: 2.1185 - val_acc: 0.2250\n",
      "Epoch 2/50\n",
      "50000/50000 [==============================] - 8s 151us/step - loss: 2.1078 - acc: 0.2114 - val_loss: 1.9772 - val_acc: 0.3108\n",
      "Epoch 3/50\n",
      "50000/50000 [==============================] - 7s 149us/step - loss: 2.0189 - acc: 0.2543 - val_loss: 1.8947 - val_acc: 0.3382\n",
      "Epoch 4/50\n",
      "50000/50000 [==============================] - 7s 150us/step - loss: 1.9553 - acc: 0.2878 - val_loss: 1.8428 - val_acc: 0.3508\n",
      "Epoch 5/50\n",
      "50000/50000 [==============================] - 8s 151us/step - loss: 1.9087 - acc: 0.3069 - val_loss: 1.7924 - val_acc: 0.3656\n",
      "Epoch 6/50\n",
      "50000/50000 [==============================] - 8s 152us/step - loss: 1.8717 - acc: 0.3228 - val_loss: 1.7532 - val_acc: 0.3814\n",
      "Epoch 7/50\n",
      "50000/50000 [==============================] - 8s 152us/step - loss: 1.8391 - acc: 0.3339 - val_loss: 1.7206 - val_acc: 0.3887\n",
      "Epoch 8/50\n",
      "50000/50000 [==============================] - 8s 151us/step - loss: 1.8114 - acc: 0.3440 - val_loss: 1.6912 - val_acc: 0.3993\n",
      "Epoch 9/50\n",
      "50000/50000 [==============================] - 8s 152us/step - loss: 1.7896 - acc: 0.3578 - val_loss: 1.6709 - val_acc: 0.4063\n",
      "Epoch 10/50\n",
      "50000/50000 [==============================] - 8s 152us/step - loss: 1.7660 - acc: 0.3642 - val_loss: 1.6388 - val_acc: 0.4175\n",
      "Epoch 11/50\n",
      "50000/50000 [==============================] - 8s 153us/step - loss: 1.7447 - acc: 0.3717 - val_loss: 1.6226 - val_acc: 0.4220\n",
      "Epoch 12/50\n",
      "50000/50000 [==============================] - 8s 158us/step - loss: 1.7265 - acc: 0.3809 - val_loss: 1.6022 - val_acc: 0.4330\n",
      "Epoch 13/50\n",
      "50000/50000 [==============================] - 8s 155us/step - loss: 1.7076 - acc: 0.3845 - val_loss: 1.5842 - val_acc: 0.4415\n",
      "Epoch 14/50\n",
      "50000/50000 [==============================] - 8s 156us/step - loss: 1.6921 - acc: 0.3947 - val_loss: 1.5688 - val_acc: 0.4434\n",
      "Epoch 15/50\n",
      "50000/50000 [==============================] - 8s 159us/step - loss: 1.6740 - acc: 0.3996 - val_loss: 1.5602 - val_acc: 0.4444\n",
      "Epoch 16/50\n",
      "50000/50000 [==============================] - 8s 158us/step - loss: 1.6613 - acc: 0.4053 - val_loss: 1.5547 - val_acc: 0.4486\n",
      "Epoch 17/50\n",
      "50000/50000 [==============================] - 8s 158us/step - loss: 1.6476 - acc: 0.4131 - val_loss: 1.5383 - val_acc: 0.4539\n",
      "Epoch 18/50\n",
      "50000/50000 [==============================] - 8s 157us/step - loss: 1.6346 - acc: 0.4148 - val_loss: 1.5262 - val_acc: 0.4567\n",
      "Epoch 19/50\n",
      "50000/50000 [==============================] - 8s 157us/step - loss: 1.6158 - acc: 0.4213 - val_loss: 1.5133 - val_acc: 0.4606\n",
      "Epoch 20/50\n",
      "50000/50000 [==============================] - 8s 160us/step - loss: 1.6057 - acc: 0.4250 - val_loss: 1.5007 - val_acc: 0.4669\n",
      "Epoch 21/50\n",
      "50000/50000 [==============================] - 8s 156us/step - loss: 1.5893 - acc: 0.4323 - val_loss: 1.4914 - val_acc: 0.4664\n",
      "Epoch 22/50\n",
      "50000/50000 [==============================] - 8s 158us/step - loss: 1.5793 - acc: 0.4354 - val_loss: 1.4738 - val_acc: 0.4786\n",
      "Epoch 23/50\n",
      "50000/50000 [==============================] - 8s 155us/step - loss: 1.5725 - acc: 0.4362 - val_loss: 1.4733 - val_acc: 0.4754\n",
      "Epoch 24/50\n",
      "50000/50000 [==============================] - 8s 155us/step - loss: 1.5595 - acc: 0.4439 - val_loss: 1.4648 - val_acc: 0.4752\n",
      "Epoch 25/50\n",
      "50000/50000 [==============================] - 8s 155us/step - loss: 1.5481 - acc: 0.4478 - val_loss: 1.4616 - val_acc: 0.4769\n",
      "Epoch 26/50\n",
      "50000/50000 [==============================] - 8s 155us/step - loss: 1.5393 - acc: 0.4507 - val_loss: 1.4570 - val_acc: 0.4799\n",
      "Epoch 27/50\n",
      "50000/50000 [==============================] - 8s 156us/step - loss: 1.5241 - acc: 0.4552 - val_loss: 1.4345 - val_acc: 0.4880\n",
      "Epoch 28/50\n",
      "50000/50000 [==============================] - 8s 158us/step - loss: 1.5191 - acc: 0.4541 - val_loss: 1.4292 - val_acc: 0.4923\n",
      "Epoch 29/50\n",
      "50000/50000 [==============================] - 8s 156us/step - loss: 1.5112 - acc: 0.4610 - val_loss: 1.4455 - val_acc: 0.4854\n",
      "Epoch 30/50\n",
      "50000/50000 [==============================] - 8s 159us/step - loss: 1.4996 - acc: 0.4621 - val_loss: 1.4378 - val_acc: 0.4854\n",
      "Epoch 31/50\n",
      "50000/50000 [==============================] - 8s 156us/step - loss: 1.4912 - acc: 0.4652 - val_loss: 1.4108 - val_acc: 0.4978\n",
      "Epoch 32/50\n",
      "50000/50000 [==============================] - 8s 157us/step - loss: 1.4803 - acc: 0.4701 - val_loss: 1.4160 - val_acc: 0.4911\n",
      "Epoch 33/50\n",
      "50000/50000 [==============================] - 8s 156us/step - loss: 1.4809 - acc: 0.4701 - val_loss: 1.4141 - val_acc: 0.4972\n",
      "Epoch 34/50\n",
      "50000/50000 [==============================] - 8s 155us/step - loss: 1.4714 - acc: 0.4730 - val_loss: 1.4065 - val_acc: 0.4982\n",
      "Epoch 35/50\n",
      "50000/50000 [==============================] - 8s 156us/step - loss: 1.4576 - acc: 0.4798 - val_loss: 1.4008 - val_acc: 0.5023\n",
      "Epoch 36/50\n",
      "50000/50000 [==============================] - 8s 155us/step - loss: 1.4538 - acc: 0.4783 - val_loss: 1.3983 - val_acc: 0.4999\n",
      "Epoch 37/50\n",
      "50000/50000 [==============================] - 8s 161us/step - loss: 1.4483 - acc: 0.4815 - val_loss: 1.3928 - val_acc: 0.5040\n",
      "Epoch 38/50\n",
      "50000/50000 [==============================] - 9s 171us/step - loss: 1.4364 - acc: 0.4852 - val_loss: 1.3876 - val_acc: 0.5040\n",
      "Epoch 39/50\n",
      "50000/50000 [==============================] - 8s 157us/step - loss: 1.4308 - acc: 0.4883 - val_loss: 1.3794 - val_acc: 0.5103\n",
      "Epoch 40/50\n",
      "50000/50000 [==============================] - 8s 157us/step - loss: 1.4254 - acc: 0.4890 - val_loss: 1.3756 - val_acc: 0.5090\n",
      "Epoch 41/50\n",
      "50000/50000 [==============================] - 8s 159us/step - loss: 1.4157 - acc: 0.4924 - val_loss: 1.3765 - val_acc: 0.5064\n",
      "Epoch 42/50\n",
      "50000/50000 [==============================] - 8s 155us/step - loss: 1.4063 - acc: 0.4965 - val_loss: 1.3827 - val_acc: 0.5036\n",
      "Epoch 43/50\n",
      "50000/50000 [==============================] - 8s 157us/step - loss: 1.4052 - acc: 0.4969 - val_loss: 1.3732 - val_acc: 0.5093\n",
      "Epoch 44/50\n",
      "50000/50000 [==============================] - 8s 156us/step - loss: 1.4024 - acc: 0.4946 - val_loss: 1.3623 - val_acc: 0.5153\n",
      "Epoch 45/50\n",
      "50000/50000 [==============================] - 8s 159us/step - loss: 1.3990 - acc: 0.4981 - val_loss: 1.3584 - val_acc: 0.5117\n",
      "Epoch 46/50\n",
      "50000/50000 [==============================] - 8s 156us/step - loss: 1.3865 - acc: 0.5062 - val_loss: 1.3692 - val_acc: 0.5109\n",
      "Epoch 47/50\n",
      "50000/50000 [==============================] - 8s 156us/step - loss: 1.3860 - acc: 0.5035 - val_loss: 1.3722 - val_acc: 0.5123\n",
      "Epoch 48/50\n",
      "50000/50000 [==============================] - 8s 157us/step - loss: 1.3807 - acc: 0.5083 - val_loss: 1.3591 - val_acc: 0.5080\n",
      "Epoch 49/50\n",
      "50000/50000 [==============================] - 8s 156us/step - loss: 1.3681 - acc: 0.5110 - val_loss: 1.3566 - val_acc: 0.5160\n",
      "Epoch 50/50\n",
      "50000/50000 [==============================] - 8s 158us/step - loss: 1.3621 - acc: 0.5122 - val_loss: 1.3471 - val_acc: 0.5179\n"
     ]
    }
   ],
   "source": [
    "model = build_mlp(input_shape=x_train.shape[1:], drp_ratio=Dropout_EXP)\n",
    "model.summary()\n",
    "optimizer = keras.optimizers.SGD(lr=LEARNING_RATE, nesterov=True, momentum=MOMENTUM)\n",
    "model.compile(loss=\"categorical_crossentropy\", metrics=[\"accuracy\"], optimizer=optimizer)\n",
    "\n",
    "model.fit(x_train, y_train, \n",
    "          epochs=EPOCHS, \n",
    "          batch_size=BATCH_SIZE, \n",
    "          validation_data=(x_test, y_test), \n",
    "          shuffle=True)\n",
    "\n",
    "# Collect results\n",
    "train_loss = model.history.history[\"loss\"]\n",
    "valid_loss = model.history.history[\"val_loss\"]\n",
    "train_acc = model.history.history[\"acc\"]\n",
    "valid_acc = model.history.history[\"val_acc\"]"
   ]
  },
  {
   "cell_type": "code",
   "execution_count": 8,
   "metadata": {},
   "outputs": [
    {
     "data": {
      "image/png": "[encoded data removed]",
      "text/plain": [
       "<Figure size 432x288 with 1 Axes>"
      ]
     },
     "metadata": {
      "needs_background": "light"
     },
     "output_type": "display_data"
    },
    {
     "data": {
      "image/png": "[encoded data removed]",
      "text/plain": [
       "<Figure size 432x288 with 1 Axes>"
      ]
     },
     "metadata": {
      "needs_background": "light"
     },
     "output_type": "display_data"
    }
   ],
   "source": [
    "import matplotlib.pyplot as plt\n",
    "%matplotlib inline\n",
    "\n",
    "plt.plot(range(len(train_loss)), train_loss, label=\"train loss\")\n",
    "plt.plot(range(len(valid_loss)), valid_loss, label=\"valid loss\")\n",
    "plt.legend()\n",
    "plt.title(\"Loss\")\n",
    "plt.show()\n",
    "\n",
    "plt.plot(range(len(train_acc)), train_acc, label=\"train accuracy\")\n",
    "plt.plot(range(len(valid_acc)), valid_acc, label=\"valid accuracy\")\n",
    "plt.legend()\n",
    "plt.title(\"Accuracy\")\n",
    "plt.show()"
   ]
  },
  {
   "cell_type": "code",
   "execution_count": 9,
   "metadata": {},
   "outputs": [
    {
     "name": "stdout",
     "output_type": "stream",
     "text": [
      "_________________________________________________________________\n",
      "Layer (type)                 Output Shape              Param #   \n",
      "=================================================================\n",
      "input_2 (InputLayer)         (None, 3072)              0         \n",
      "_________________________________________________________________\n",
      "hidden_layer1 (Dense)        (None, 512)               1573376   \n",
      "_________________________________________________________________\n",
      "dropout_5 (Dropout)          (None, 512)               0         \n",
      "_________________________________________________________________\n",
      "hidden_layer2 (Dense)        (None, 256)               131328    \n",
      "_________________________________________________________________\n",
      "dropout_6 (Dropout)          (None, 256)               0         \n",
      "_________________________________________________________________\n",
      "hidden_layer3 (Dense)        (None, 128)               32896     \n",
      "_________________________________________________________________\n",
      "dropout_7 (Dropout)          (None, 128)               0         \n",
      "_________________________________________________________________\n",
      "hidden_layer4 (Dense)        (None, 64)                8256      \n",
      "_________________________________________________________________\n",
      "dropout_8 (Dropout)          (None, 64)                0         \n",
      "_________________________________________________________________\n",
      "output (Dense)               (None, 10)                650       \n",
      "=================================================================\n",
      "Total params: 1,746,506\n",
      "Trainable params: 1,746,506\n",
      "Non-trainable params: 0\n",
      "_________________________________________________________________\n",
      "Train on 50000 samples, validate on 10000 samples\n",
      "Epoch 1/50\n",
      "50000/50000 [==============================] - 10s 208us/step - loss: 2.1115 - acc: 0.2084 - val_loss: 1.8888 - val_acc: 0.3082\n",
      "Epoch 2/50\n",
      "50000/50000 [==============================] - 10s 193us/step - loss: 1.9363 - acc: 0.2880 - val_loss: 1.8159 - val_acc: 0.3481\n",
      "Epoch 3/50\n",
      "50000/50000 [==============================] - 10s 192us/step - loss: 1.8701 - acc: 0.3172 - val_loss: 1.7834 - val_acc: 0.3598\n",
      "Epoch 4/50\n",
      "50000/50000 [==============================] - 10s 194us/step - loss: 1.8366 - acc: 0.3305 - val_loss: 1.7454 - val_acc: 0.3851\n",
      "Epoch 5/50\n",
      "50000/50000 [==============================] - 10s 193us/step - loss: 1.8086 - acc: 0.3426 - val_loss: 1.7252 - val_acc: 0.3846\n",
      "Epoch 6/50\n",
      "50000/50000 [==============================] - 10s 192us/step - loss: 1.7985 - acc: 0.3446 - val_loss: 1.7068 - val_acc: 0.3946\n",
      "Epoch 7/50\n",
      "50000/50000 [==============================] - 10s 198us/step - loss: 1.7708 - acc: 0.3614 - val_loss: 1.6939 - val_acc: 0.4000\n",
      "Epoch 8/50\n",
      "50000/50000 [==============================] - 10s 197us/step - loss: 1.7650 - acc: 0.3595 - val_loss: 1.6694 - val_acc: 0.4067\n",
      "Epoch 9/50\n",
      "50000/50000 [==============================] - 10s 194us/step - loss: 1.7455 - acc: 0.3688 - val_loss: 1.6795 - val_acc: 0.4083\n",
      "Epoch 10/50\n",
      "50000/50000 [==============================] - 10s 193us/step - loss: 1.7296 - acc: 0.3747 - val_loss: 1.6378 - val_acc: 0.4291\n",
      "Epoch 11/50\n",
      "50000/50000 [==============================] - 10s 193us/step - loss: 1.7216 - acc: 0.3786 - val_loss: 1.6598 - val_acc: 0.4164\n",
      "Epoch 12/50\n",
      "50000/50000 [==============================] - 10s 192us/step - loss: 1.7151 - acc: 0.3829 - val_loss: 1.6413 - val_acc: 0.4244\n",
      "Epoch 13/50\n",
      "50000/50000 [==============================] - 10s 193us/step - loss: 1.6966 - acc: 0.3882 - val_loss: 1.6401 - val_acc: 0.4279\n",
      "Epoch 14/50\n",
      "50000/50000 [==============================] - 10s 194us/step - loss: 1.6895 - acc: 0.3924 - val_loss: 1.6003 - val_acc: 0.4394\n",
      "Epoch 15/50\n",
      "50000/50000 [==============================] - 10s 193us/step - loss: 1.6819 - acc: 0.3954 - val_loss: 1.6138 - val_acc: 0.4334\n",
      "Epoch 16/50\n",
      "50000/50000 [==============================] - 10s 196us/step - loss: 1.6785 - acc: 0.3961 - val_loss: 1.6078 - val_acc: 0.4337\n",
      "Epoch 17/50\n",
      "50000/50000 [==============================] - 10s 201us/step - loss: 1.6695 - acc: 0.4026 - val_loss: 1.5797 - val_acc: 0.4428\n",
      "Epoch 18/50\n",
      "50000/50000 [==============================] - 10s 202us/step - loss: 1.6668 - acc: 0.4012 - val_loss: 1.6092 - val_acc: 0.4349\n",
      "Epoch 19/50\n",
      "50000/50000 [==============================] - 10s 201us/step - loss: 1.6600 - acc: 0.4040 - val_loss: 1.5870 - val_acc: 0.4444\n",
      "Epoch 20/50\n",
      "50000/50000 [==============================] - 10s 207us/step - loss: 1.6559 - acc: 0.4043 - val_loss: 1.5917 - val_acc: 0.4341\n",
      "Epoch 21/50\n",
      "50000/50000 [==============================] - 11s 222us/step - loss: 1.6547 - acc: 0.4072 - val_loss: 1.5872 - val_acc: 0.4395\n",
      "Epoch 22/50\n",
      "50000/50000 [==============================] - 11s 211us/step - loss: 1.6444 - acc: 0.4102 - val_loss: 1.5712 - val_acc: 0.4550\n",
      "Epoch 23/50\n",
      "50000/50000 [==============================] - 10s 201us/step - loss: 1.6339 - acc: 0.4148 - val_loss: 1.5792 - val_acc: 0.4401\n",
      "Epoch 24/50\n",
      "50000/50000 [==============================] - 10s 202us/step - loss: 1.6352 - acc: 0.4135 - val_loss: 1.5746 - val_acc: 0.4436\n",
      "Epoch 25/50\n",
      "50000/50000 [==============================] - 10s 201us/step - loss: 1.6316 - acc: 0.4097 - val_loss: 1.5614 - val_acc: 0.4481\n",
      "Epoch 26/50\n",
      "50000/50000 [==============================] - 10s 203us/step - loss: 1.6278 - acc: 0.4170 - val_loss: 1.5703 - val_acc: 0.4519\n",
      "Epoch 27/50\n",
      "50000/50000 [==============================] - 10s 202us/step - loss: 1.6268 - acc: 0.4205 - val_loss: 1.5520 - val_acc: 0.4513\n",
      "Epoch 28/50\n",
      "50000/50000 [==============================] - 10s 204us/step - loss: 1.6143 - acc: 0.4184 - val_loss: 1.5413 - val_acc: 0.4544\n",
      "Epoch 29/50\n",
      "50000/50000 [==============================] - 10s 200us/step - loss: 1.6152 - acc: 0.4231 - val_loss: 1.5262 - val_acc: 0.4663\n",
      "Epoch 30/50\n",
      "50000/50000 [==============================] - 10s 204us/step - loss: 1.6120 - acc: 0.4214 - val_loss: 1.5553 - val_acc: 0.4556\n",
      "Epoch 31/50\n",
      "50000/50000 [==============================] - 10s 202us/step - loss: 1.6157 - acc: 0.4201 - val_loss: 1.5504 - val_acc: 0.4535\n",
      "Epoch 32/50\n",
      "50000/50000 [==============================] - 10s 203us/step - loss: 1.6046 - acc: 0.4249 - val_loss: 1.5495 - val_acc: 0.4571\n",
      "Epoch 33/50\n",
      "50000/50000 [==============================] - 10s 202us/step - loss: 1.6011 - acc: 0.4278 - val_loss: 1.5189 - val_acc: 0.4625\n",
      "Epoch 34/50\n",
      "50000/50000 [==============================] - 10s 203us/step - loss: 1.6040 - acc: 0.4232 - val_loss: 1.5268 - val_acc: 0.4631\n",
      "Epoch 35/50\n",
      "50000/50000 [==============================] - 10s 202us/step - loss: 1.5938 - acc: 0.4266 - val_loss: 1.5193 - val_acc: 0.4645\n",
      "Epoch 36/50\n",
      "50000/50000 [==============================] - 10s 205us/step - loss: 1.5881 - acc: 0.4326 - val_loss: 1.5240 - val_acc: 0.4697\n",
      "Epoch 37/50\n",
      "50000/50000 [==============================] - 10s 201us/step - loss: 1.5882 - acc: 0.4329 - val_loss: 1.5064 - val_acc: 0.4717\n",
      "Epoch 38/50\n",
      "50000/50000 [==============================] - 10s 204us/step - loss: 1.5815 - acc: 0.4330 - val_loss: 1.5062 - val_acc: 0.4701\n",
      "Epoch 39/50\n",
      "50000/50000 [==============================] - 10s 199us/step - loss: 1.5878 - acc: 0.4277 - val_loss: 1.5157 - val_acc: 0.4699\n",
      "Epoch 40/50\n",
      "50000/50000 [==============================] - 10s 201us/step - loss: 1.5791 - acc: 0.4324 - val_loss: 1.5490 - val_acc: 0.4552\n",
      "Epoch 41/50\n",
      "50000/50000 [==============================] - 10s 200us/step - loss: 1.5835 - acc: 0.4316 - val_loss: 1.5227 - val_acc: 0.4593\n",
      "Epoch 42/50\n",
      "50000/50000 [==============================] - 10s 202us/step - loss: 1.5710 - acc: 0.4388 - val_loss: 1.5266 - val_acc: 0.4577\n",
      "Epoch 43/50\n",
      "50000/50000 [==============================] - 10s 201us/step - loss: 1.5736 - acc: 0.4380 - val_loss: 1.4997 - val_acc: 0.4720\n",
      "Epoch 44/50\n",
      "50000/50000 [==============================] - 10s 205us/step - loss: 1.5776 - acc: 0.4343 - val_loss: 1.5060 - val_acc: 0.4686\n",
      "Epoch 45/50\n",
      "50000/50000 [==============================] - 10s 202us/step - loss: 1.5695 - acc: 0.4372 - val_loss: 1.5100 - val_acc: 0.4689\n",
      "Epoch 46/50\n",
      "50000/50000 [==============================] - 10s 201us/step - loss: 1.5697 - acc: 0.4369 - val_loss: 1.4886 - val_acc: 0.4675\n",
      "Epoch 47/50\n"
     ]
    },
    {
     "name": "stdout",
     "output_type": "stream",
     "text": [
      "50000/50000 [==============================] - 10s 191us/step - loss: 1.5782 - acc: 0.4317 - val_loss: 1.5254 - val_acc: 0.4628\n",
      "Epoch 48/50\n",
      "50000/50000 [==============================] - 10s 190us/step - loss: 1.5622 - acc: 0.4428 - val_loss: 1.5141 - val_acc: 0.4680\n",
      "Epoch 49/50\n",
      "50000/50000 [==============================] - 9s 190us/step - loss: 1.5635 - acc: 0.4411 - val_loss: 1.5024 - val_acc: 0.4720\n",
      "Epoch 50/50\n",
      "50000/50000 [==============================] - 10s 190us/step - loss: 1.5638 - acc: 0.4426 - val_loss: 1.5072 - val_acc: 0.4684\n"
     ]
    }
   ],
   "source": [
    "model = build_mlp(input_shape=x_train.shape[1:], drp_ratio=Dropout_EXP)\n",
    "model.summary()\n",
    "optimizer = keras.optimizers.Adam(lr=LEARNING_RATE)\n",
    "model.compile(loss=\"categorical_crossentropy\", metrics=[\"accuracy\"], optimizer=optimizer)\n",
    "\n",
    "model.fit(x_train, y_train, \n",
    "          epochs=EPOCHS, \n",
    "          batch_size=BATCH_SIZE, \n",
    "          validation_data=(x_test, y_test), \n",
    "          shuffle=True)\n",
    "\n",
    "# Collect results\n",
    "train_loss = model.history.history[\"loss\"]\n",
    "valid_loss = model.history.history[\"val_loss\"]\n",
    "train_acc = model.history.history[\"acc\"]\n",
    "valid_acc = model.history.history[\"val_acc\"]"
   ]
  },
  {
   "cell_type": "code",
   "execution_count": 10,
   "metadata": {},
   "outputs": [
    {
     "data": {
      "image/png": "[encoded data removed]",
      "text/plain": [
       "<Figure size 432x288 with 1 Axes>"
      ]
     },
     "metadata": {
      "needs_background": "light"
     },
     "output_type": "display_data"
    },
    {
     "data": {
      "image/png": "[encoded data removed]",
      "text/plain": [
       "<Figure size 432x288 with 1 Axes>"
      ]
     },
     "metadata": {
      "needs_background": "light"
     },
     "output_type": "display_data"
    }
   ],
   "source": [
    "import matplotlib.pyplot as plt\n",
    "%matplotlib inline\n",
    "\n",
    "plt.plot(range(len(train_loss)), train_loss, label=\"train loss\")\n",
    "plt.plot(range(len(valid_loss)), valid_loss, label=\"valid loss\")\n",
    "plt.legend()\n",
    "plt.title(\"Loss\")\n",
    "plt.show()\n",
    "\n",
    "plt.plot(range(len(train_acc)), train_acc, label=\"train accuracy\")\n",
    "plt.plot(range(len(valid_acc)), valid_acc, label=\"valid accuracy\")\n",
    "plt.legend()\n",
    "plt.title(\"Accuracy\")\n",
    "plt.show()"
   ]
  }
 ],
 "metadata": {
  "kernelspec": {
   "display_name": "Python 3",
   "language": "python",
   "name": "python3"
  },
  "language_info": {
   "codemirror_mode": {
    "name": "ipython",
    "version": 3
   },
   "file_extension": ".py",
   "mimetype": "text/x-python",
   "name": "python",
   "nbconvert_exporter": "python",
   "pygments_lexer": "ipython3",
   "version": "3.7.3"
  }
 },
 "nbformat": 4,
 "nbformat_minor": 2
}
