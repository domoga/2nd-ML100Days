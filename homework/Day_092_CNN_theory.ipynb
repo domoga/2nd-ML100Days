{
 "cells": [
  {
   "cell_type": "markdown",
   "metadata": {},
   "source": [
    "請閱讀以下文獻，理解 CNN 原理後回答問題\n",
    "- [卷積神經網路原理 - 中文](https://brohrer.mcknote.com/zh-Hant/how_machine_learning_works/how_convolutional_neural_networks_work.html)\n",
    "- [CNN for beginner’s guide](https://adeshpande3.github.io/A-Beginner%27s-Guide-To-Understanding-Convolutional-Neural-Networks/)\n",
    "\n",
    "1. 若使用總共 128 個濾波器 (filters)，對一張 256x256 的影像做完卷積後，共會得到幾張特徵圖 (feature maps)？\n",
    "2. 卷積神經網路中，濾波器的大小 (3x3 or 5x5) 與內部數字的值 (value) 是怎麼決定的呢？\n"
   ]
  },
  {
   "cell_type": "markdown",
   "metadata": {},
   "source": [
    "128個"
   ]
  },
  {
   "cell_type": "markdown",
   "metadata": {},
   "source": [
    "大小是由卷積核和上一層輸入圖像的大小決定的，假設上一層的圖像大小是n*n、卷積核的大小是k*k，則該層的feature map大小是(n-k+1)*(n-k+1)，比如上圖3~5，從7*7的圖像大小，產生3x3 feature map  (3=7-5+1）"
   ]
  }
 ],
 "metadata": {
  "kernelspec": {
   "display_name": "Python 3",
   "language": "python",
   "name": "python3"
  },
  "language_info": {
   "codemirror_mode": {
    "name": "ipython",
    "version": 3
   },
   "file_extension": ".py",
   "mimetype": "text/x-python",
   "name": "python",
   "nbconvert_exporter": "python",
   "pygments_lexer": "ipython3",
   "version": "3.7.3"
  }
 },
 "nbformat": 4,
 "nbformat_minor": 2
}
