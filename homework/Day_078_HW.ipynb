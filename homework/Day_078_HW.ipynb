{
 "cells": [
  {
   "cell_type": "markdown",
   "metadata": {},
   "source": [
    "## Work\n",
    "1. 請嘗試將 preproc_x 替換成以每筆資料的 min/max 進行標準化至 -1 ~ 1 間，再進行訓練\n",
    "2. 請嘗試將 mlp 疊更深 (e.g 5~10 層)，進行訓練後觀察 learning curve 的走勢\n",
    "3. (optional) 請改用 GPU 進行訓練 (如果你有 GPU 的話)，比較使用 CPU 與 GPU 的訓練速度"
   ]
  },
  {
   "cell_type": "code",
   "execution_count": 1,
   "metadata": {},
   "outputs": [
    {
     "data": {
      "text/plain": [
       "'\\nYour code here (optional)\\n確認硬體資源\\n'"
      ]
     },
     "execution_count": 1,
     "metadata": {},
     "output_type": "execute_result"
    }
   ],
   "source": [
    "## \n",
    "\"\"\"\n",
    "Your code here (optional)\n",
    "確認硬體資源\n",
    "\"\"\"\n"
   ]
  },
  {
   "cell_type": "code",
   "execution_count": 2,
   "metadata": {},
   "outputs": [
    {
     "name": "stderr",
     "output_type": "stream",
     "text": [
      "Using TensorFlow backend.\n"
     ]
    }
   ],
   "source": [
    "import os\n",
    "import keras\n",
    "\n",
    "# 請嘗試設定 GPU：os.environ\n",
    "os.environ[\"CUDA_VISIBLE_DEVICES\"] = \"\""
   ]
  },
  {
   "cell_type": "code",
   "execution_count": 3,
   "metadata": {},
   "outputs": [],
   "source": [
    "train, test = keras.datasets.cifar10.load_data()"
   ]
  },
  {
   "cell_type": "code",
   "execution_count": 4,
   "metadata": {},
   "outputs": [],
   "source": [
    "## 資料前處理\n",
    "def preproc_x(x, flatten=True):\n",
    "    minimum = x.min( )\n",
    "    maximum = x.max( )\n",
    "    x = 2 * ( x - minimum ) / ( maximum -minimum ) - 1 \n",
    "    if flatten :\n",
    "        x = x.reshape( ( len( x ), -1 ) )\n",
    "    return x\n",
    "\n",
    "def preproc_y(y, num_classes=10):\n",
    "    if y.shape[ -1 ] == 1 :\n",
    "        y = keras.utils.to_categorical( y, num_classes )\n",
    "    return y    "
   ]
  },
  {
   "cell_type": "code",
   "execution_count": 5,
   "metadata": {},
   "outputs": [],
   "source": [
    "x_train, y_train = train\n",
    "x_test, y_test = test\n",
    "\n",
    "# 資料前處理 - X 標準化\n",
    "x_train = preproc_x(x_train)\n",
    "x_test = preproc_x(x_test)\n",
    "\n",
    "# 資料前處理 -Y 轉成 onehot\n",
    "y_train = preproc_y(y_train)\n",
    "y_test = preproc_y(y_test)"
   ]
  },
  {
   "cell_type": "code",
   "execution_count": 6,
   "metadata": {},
   "outputs": [],
   "source": [
    "\"\"\"Code Here\n",
    "建立你的神經網路\n",
    "\"\"\"\n",
    "def build_mlp(input_shape, output_units=10, num_neurons=[512, 256, 128, 64, 32, 16]):\n",
    "    input_layer = keras.layers.Input(input_shape)\n",
    "    \n",
    "    for i, n_units in enumerate(num_neurons):\n",
    "        if i == 0:\n",
    "            x = keras.layers.Dense(units=n_units, activation=\"relu\", name=\"hidden_layer\"+str(i+1))(input_layer)\n",
    "        else:\n",
    "            x = keras.layers.Dense(units=n_units, activation=\"relu\", name=\"hidden_layer\"+str(i+1))(x)\n",
    "    \n",
    "    out = keras.layers.Dense(units=output_units, activation=\"softmax\", name=\"output\")(x)\n",
    "    \n",
    "    model = keras.models.Model(inputs=[input_layer], outputs=[out])\n",
    "    return model"
   ]
  },
  {
   "cell_type": "code",
   "execution_count": 7,
   "metadata": {},
   "outputs": [
    {
     "name": "stderr",
     "output_type": "stream",
     "text": [
      "WARNING: Logging before flag parsing goes to stderr.\n",
      "W0714 21:52:43.316262  7360 deprecation_wrapper.py:119] From D:\\Anaconda3\\lib\\site-packages\\keras\\backend\\tensorflow_backend.py:74: The name tf.get_default_graph is deprecated. Please use tf.compat.v1.get_default_graph instead.\n",
      "\n",
      "W0714 21:52:43.483272  7360 deprecation_wrapper.py:119] From D:\\Anaconda3\\lib\\site-packages\\keras\\backend\\tensorflow_backend.py:517: The name tf.placeholder is deprecated. Please use tf.compat.v1.placeholder instead.\n",
      "\n",
      "W0714 21:52:43.534275  7360 deprecation_wrapper.py:119] From D:\\Anaconda3\\lib\\site-packages\\keras\\backend\\tensorflow_backend.py:4138: The name tf.random_uniform is deprecated. Please use tf.random.uniform instead.\n",
      "\n"
     ]
    },
    {
     "name": "stdout",
     "output_type": "stream",
     "text": [
      "_________________________________________________________________\n",
      "Layer (type)                 Output Shape              Param #   \n",
      "=================================================================\n",
      "input_1 (InputLayer)         (None, 3072)              0         \n",
      "_________________________________________________________________\n",
      "hidden_layer1 (Dense)        (None, 512)               1573376   \n",
      "_________________________________________________________________\n",
      "hidden_layer2 (Dense)        (None, 256)               131328    \n",
      "_________________________________________________________________\n",
      "hidden_layer3 (Dense)        (None, 128)               32896     \n",
      "_________________________________________________________________\n",
      "hidden_layer4 (Dense)        (None, 64)                8256      \n",
      "_________________________________________________________________\n",
      "hidden_layer5 (Dense)        (None, 32)                2080      \n",
      "_________________________________________________________________\n",
      "hidden_layer6 (Dense)        (None, 16)                528       \n",
      "_________________________________________________________________\n",
      "output (Dense)               (None, 10)                170       \n",
      "=================================================================\n",
      "Total params: 1,748,634\n",
      "Trainable params: 1,748,634\n",
      "Non-trainable params: 0\n",
      "_________________________________________________________________\n"
     ]
    }
   ],
   "source": [
    "model = build_mlp(input_shape=x_train.shape[1:])\n",
    "model.summary()"
   ]
  },
  {
   "cell_type": "code",
   "execution_count": 8,
   "metadata": {},
   "outputs": [],
   "source": [
    "## 超參數設定\n",
    "LEARNING_RATE = 0.001\n",
    "EPOCHS = 100\n",
    "BATCH_SIZE = 256"
   ]
  },
  {
   "cell_type": "code",
   "execution_count": 9,
   "metadata": {},
   "outputs": [
    {
     "name": "stderr",
     "output_type": "stream",
     "text": [
      "W0714 21:52:43.804290  7360 deprecation_wrapper.py:119] From D:\\Anaconda3\\lib\\site-packages\\keras\\optimizers.py:790: The name tf.train.Optimizer is deprecated. Please use tf.compat.v1.train.Optimizer instead.\n",
      "\n",
      "W0714 21:52:43.813291  7360 deprecation_wrapper.py:119] From D:\\Anaconda3\\lib\\site-packages\\keras\\backend\\tensorflow_backend.py:3295: The name tf.log is deprecated. Please use tf.math.log instead.\n",
      "\n"
     ]
    }
   ],
   "source": [
    "optimizer = keras.optimizers.Adam(lr=LEARNING_RATE)\n",
    "model.compile(loss=\"categorical_crossentropy\", metrics=[\"accuracy\"], optimizer=optimizer)"
   ]
  },
  {
   "cell_type": "code",
   "execution_count": 10,
   "metadata": {},
   "outputs": [
    {
     "name": "stderr",
     "output_type": "stream",
     "text": [
      "W0714 21:52:43.975300  7360 deprecation.py:323] From D:\\Anaconda3\\lib\\site-packages\\tensorflow\\python\\ops\\math_grad.py:1250: add_dispatch_support.<locals>.wrapper (from tensorflow.python.ops.array_ops) is deprecated and will be removed in a future version.\n",
      "Instructions for updating:\n",
      "Use tf.where in 2.0, which has the same broadcast rule as np.where\n",
      "W0714 21:52:44.409325  7360 deprecation_wrapper.py:119] From D:\\Anaconda3\\lib\\site-packages\\keras\\backend\\tensorflow_backend.py:986: The name tf.assign_add is deprecated. Please use tf.compat.v1.assign_add instead.\n",
      "\n"
     ]
    },
    {
     "name": "stdout",
     "output_type": "stream",
     "text": [
      "Train on 50000 samples, validate on 10000 samples\n",
      "Epoch 1/100\n",
      "50000/50000 [==============================] - 21s 420us/step - loss: 2.2986 - acc: 0.1155 - val_loss: 2.2779 - val_acc: 0.1194\n",
      "Epoch 2/100\n",
      "50000/50000 [==============================] - 22s 437us/step - loss: 2.2324 - acc: 0.1537 - val_loss: 2.2012 - val_acc: 0.1727\n",
      "Epoch 3/100\n",
      "50000/50000 [==============================] - 22s 437us/step - loss: 2.1572 - acc: 0.1900 - val_loss: 2.1614 - val_acc: 0.1974\n",
      "Epoch 4/100\n",
      "50000/50000 [==============================] - 22s 440us/step - loss: 2.1125 - acc: 0.2132 - val_loss: 2.1125 - val_acc: 0.2204\n",
      "Epoch 5/100\n",
      "50000/50000 [==============================] - 22s 441us/step - loss: 2.0670 - acc: 0.2400 - val_loss: 2.0853 - val_acc: 0.2386\n",
      "Epoch 6/100\n",
      "50000/50000 [==============================] - 22s 438us/step - loss: 2.0270 - acc: 0.2611 - val_loss: 2.0367 - val_acc: 0.2569\n",
      "Epoch 7/100\n",
      "50000/50000 [==============================] - 22s 441us/step - loss: 1.9820 - acc: 0.2782 - val_loss: 2.0106 - val_acc: 0.2629\n",
      "Epoch 8/100\n",
      "50000/50000 [==============================] - 22s 439us/step - loss: 1.9535 - acc: 0.2879 - val_loss: 2.0052 - val_acc: 0.2672\n",
      "Epoch 9/100\n",
      "50000/50000 [==============================] - 22s 440us/step - loss: 1.9250 - acc: 0.3005 - val_loss: 1.9854 - val_acc: 0.2747\n",
      "Epoch 10/100\n",
      "50000/50000 [==============================] - 22s 440us/step - loss: 1.8915 - acc: 0.3119 - val_loss: 2.0006 - val_acc: 0.2801\n",
      "Epoch 11/100\n",
      "50000/50000 [==============================] - 22s 443us/step - loss: 1.8680 - acc: 0.3229 - val_loss: 1.9754 - val_acc: 0.2791\n",
      "Epoch 12/100\n",
      "50000/50000 [==============================] - 23s 451us/step - loss: 1.8404 - acc: 0.3324 - val_loss: 1.9450 - val_acc: 0.2963\n",
      "Epoch 13/100\n",
      "50000/50000 [==============================] - 22s 447us/step - loss: 1.8079 - acc: 0.3448 - val_loss: 1.9635 - val_acc: 0.2980\n",
      "Epoch 14/100\n",
      "50000/50000 [==============================] - 22s 438us/step - loss: 1.7817 - acc: 0.3569 - val_loss: 1.9515 - val_acc: 0.2995\n",
      "Epoch 15/100\n",
      "50000/50000 [==============================] - 22s 439us/step - loss: 1.7591 - acc: 0.3653 - val_loss: 1.9684 - val_acc: 0.3045\n",
      "Epoch 16/100\n",
      "50000/50000 [==============================] - 22s 442us/step - loss: 1.7286 - acc: 0.3749 - val_loss: 1.9949 - val_acc: 0.2989\n",
      "Epoch 17/100\n",
      "50000/50000 [==============================] - 22s 441us/step - loss: 1.7075 - acc: 0.3862 - val_loss: 1.9621 - val_acc: 0.2989\n",
      "Epoch 18/100\n",
      "50000/50000 [==============================] - 22s 446us/step - loss: 1.6690 - acc: 0.3991 - val_loss: 1.9801 - val_acc: 0.3085\n",
      "Epoch 19/100\n",
      "50000/50000 [==============================] - 22s 441us/step - loss: 1.6419 - acc: 0.4117 - val_loss: 2.0046 - val_acc: 0.3047\n",
      "Epoch 20/100\n",
      "50000/50000 [==============================] - 22s 446us/step - loss: 1.6118 - acc: 0.4184 - val_loss: 2.0151 - val_acc: 0.2961\n",
      "Epoch 21/100\n",
      "50000/50000 [==============================] - 22s 444us/step - loss: 1.5873 - acc: 0.4287 - val_loss: 2.0227 - val_acc: 0.3123\n",
      "Epoch 22/100\n",
      "50000/50000 [==============================] - 22s 443us/step - loss: 1.5443 - acc: 0.4452 - val_loss: 2.0099 - val_acc: 0.3128\n",
      "Epoch 23/100\n",
      "50000/50000 [==============================] - 22s 445us/step - loss: 1.5120 - acc: 0.4548 - val_loss: 2.0501 - val_acc: 0.3062\n",
      "Epoch 24/100\n",
      "50000/50000 [==============================] - 22s 445us/step - loss: 1.4893 - acc: 0.4644 - val_loss: 2.1002 - val_acc: 0.3086\n",
      "Epoch 25/100\n",
      "50000/50000 [==============================] - 22s 444us/step - loss: 1.4640 - acc: 0.4724 - val_loss: 2.1129 - val_acc: 0.3123\n",
      "Epoch 26/100\n",
      "50000/50000 [==============================] - 22s 446us/step - loss: 1.4307 - acc: 0.4839 - val_loss: 2.1044 - val_acc: 0.3009\n",
      "Epoch 27/100\n",
      "50000/50000 [==============================] - 22s 446us/step - loss: 1.3937 - acc: 0.4966 - val_loss: 2.1690 - val_acc: 0.3024\n",
      "Epoch 28/100\n",
      "50000/50000 [==============================] - 22s 446us/step - loss: 1.3584 - acc: 0.5089 - val_loss: 2.2823 - val_acc: 0.2952\n",
      "Epoch 29/100\n",
      "50000/50000 [==============================] - 22s 447us/step - loss: 1.3289 - acc: 0.5199 - val_loss: 2.2135 - val_acc: 0.3034\n",
      "Epoch 30/100\n",
      "50000/50000 [==============================] - 22s 446us/step - loss: 1.2928 - acc: 0.5336 - val_loss: 2.2759 - val_acc: 0.3055\n",
      "Epoch 31/100\n",
      "50000/50000 [==============================] - 22s 448us/step - loss: 1.2853 - acc: 0.5369 - val_loss: 2.3404 - val_acc: 0.2976\n",
      "Epoch 32/100\n",
      "50000/50000 [==============================] - 22s 448us/step - loss: 1.2483 - acc: 0.5497 - val_loss: 2.3627 - val_acc: 0.3037\n",
      "Epoch 33/100\n",
      "50000/50000 [==============================] - 22s 447us/step - loss: 1.2310 - acc: 0.5549 - val_loss: 2.3665 - val_acc: 0.2990\n",
      "Epoch 34/100\n",
      "50000/50000 [==============================] - 22s 448us/step - loss: 1.1878 - acc: 0.5704 - val_loss: 2.4534 - val_acc: 0.3007\n",
      "Epoch 35/100\n",
      "50000/50000 [==============================] - 22s 447us/step - loss: 1.1587 - acc: 0.5782 - val_loss: 2.4381 - val_acc: 0.3040\n",
      "Epoch 36/100\n",
      "50000/50000 [==============================] - 22s 447us/step - loss: 1.1347 - acc: 0.5866 - val_loss: 2.5224 - val_acc: 0.2922\n",
      "Epoch 37/100\n",
      "50000/50000 [==============================] - 22s 447us/step - loss: 1.1190 - acc: 0.5950 - val_loss: 2.5762 - val_acc: 0.2909\n",
      "Epoch 38/100\n",
      "50000/50000 [==============================] - 22s 448us/step - loss: 1.0713 - acc: 0.6111 - val_loss: 2.6316 - val_acc: 0.3044\n",
      "Epoch 39/100\n",
      "50000/50000 [==============================] - 22s 448us/step - loss: 1.0319 - acc: 0.6257 - val_loss: 2.9243 - val_acc: 0.2945\n",
      "Epoch 40/100\n",
      "50000/50000 [==============================] - 22s 447us/step - loss: 1.0228 - acc: 0.6263 - val_loss: 2.7345 - val_acc: 0.2942\n",
      "Epoch 41/100\n",
      "50000/50000 [==============================] - 22s 448us/step - loss: 1.0071 - acc: 0.6329 - val_loss: 2.8593 - val_acc: 0.2892\n",
      "Epoch 42/100\n",
      "50000/50000 [==============================] - 23s 452us/step - loss: 0.9709 - acc: 0.6482 - val_loss: 2.8959 - val_acc: 0.2905\n",
      "Epoch 43/100\n",
      "50000/50000 [==============================] - 22s 446us/step - loss: 0.9652 - acc: 0.6476 - val_loss: 2.8354 - val_acc: 0.2949\n",
      "Epoch 44/100\n",
      "50000/50000 [==============================] - 22s 448us/step - loss: 0.9454 - acc: 0.6554 - val_loss: 2.9444 - val_acc: 0.2953\n",
      "Epoch 45/100\n",
      "50000/50000 [==============================] - 23s 454us/step - loss: 0.8919 - acc: 0.6746 - val_loss: 3.1637 - val_acc: 0.2855\n",
      "Epoch 46/100\n",
      "50000/50000 [==============================] - 22s 449us/step - loss: 0.8812 - acc: 0.6758 - val_loss: 3.1956 - val_acc: 0.2885\n",
      "Epoch 47/100\n",
      "50000/50000 [==============================] - 22s 449us/step - loss: 0.8801 - acc: 0.6771 - val_loss: 3.0286 - val_acc: 0.2791\n",
      "Epoch 48/100\n",
      "50000/50000 [==============================] - 22s 449us/step - loss: 0.8566 - acc: 0.6868 - val_loss: 3.3813 - val_acc: 0.2861\n",
      "Epoch 49/100\n",
      "50000/50000 [==============================] - 22s 446us/step - loss: 0.8352 - acc: 0.6949 - val_loss: 3.2580 - val_acc: 0.2940\n",
      "Epoch 50/100\n",
      "50000/50000 [==============================] - 22s 448us/step - loss: 0.8024 - acc: 0.7069 - val_loss: 3.4032 - val_acc: 0.2861\n",
      "Epoch 51/100\n",
      "50000/50000 [==============================] - 22s 447us/step - loss: 0.7850 - acc: 0.7121 - val_loss: 3.5789 - val_acc: 0.2889\n",
      "Epoch 52/100\n",
      "50000/50000 [==============================] - 22s 447us/step - loss: 0.7770 - acc: 0.7152 - val_loss: 3.4726 - val_acc: 0.2834\n",
      "Epoch 53/100\n",
      "50000/50000 [==============================] - 22s 448us/step - loss: 0.7443 - acc: 0.7274 - val_loss: 3.6822 - val_acc: 0.2825\n",
      "Epoch 54/100\n",
      "50000/50000 [==============================] - 22s 447us/step - loss: 0.7134 - acc: 0.7381 - val_loss: 3.6361 - val_acc: 0.2804\n",
      "Epoch 55/100\n",
      "50000/50000 [==============================] - 22s 449us/step - loss: 0.6945 - acc: 0.7443 - val_loss: 3.7517 - val_acc: 0.2816\n",
      "Epoch 56/100\n",
      "50000/50000 [==============================] - 22s 447us/step - loss: 0.7060 - acc: 0.7427 - val_loss: 3.8727 - val_acc: 0.2786\n",
      "Epoch 57/100\n",
      "50000/50000 [==============================] - 22s 448us/step - loss: 0.6901 - acc: 0.7477 - val_loss: 3.8365 - val_acc: 0.2917\n",
      "Epoch 58/100\n",
      "50000/50000 [==============================] - 23s 451us/step - loss: 0.6706 - acc: 0.7546 - val_loss: 3.8363 - val_acc: 0.2863\n"
     ]
    },
    {
     "name": "stdout",
     "output_type": "stream",
     "text": [
      "Epoch 59/100\n",
      "50000/50000 [==============================] - 22s 436us/step - loss: 0.6745 - acc: 0.7531 - val_loss: 4.0278 - val_acc: 0.2835\n",
      "Epoch 60/100\n",
      "50000/50000 [==============================] - 22s 435us/step - loss: 0.6107 - acc: 0.7769 - val_loss: 4.0308 - val_acc: 0.2809\n",
      "Epoch 61/100\n",
      "50000/50000 [==============================] - 22s 437us/step - loss: 0.6253 - acc: 0.7688 - val_loss: 4.0679 - val_acc: 0.2851\n",
      "Epoch 62/100\n",
      "50000/50000 [==============================] - 22s 436us/step - loss: 0.6236 - acc: 0.7738 - val_loss: 4.0317 - val_acc: 0.2820\n",
      "Epoch 63/100\n",
      "50000/50000 [==============================] - 22s 435us/step - loss: 0.6066 - acc: 0.7795 - val_loss: 4.1866 - val_acc: 0.2845\n",
      "Epoch 64/100\n",
      "50000/50000 [==============================] - 22s 436us/step - loss: 0.5838 - acc: 0.7863 - val_loss: 4.3374 - val_acc: 0.2824\n",
      "Epoch 65/100\n",
      "50000/50000 [==============================] - 22s 436us/step - loss: 0.5371 - acc: 0.8058 - val_loss: 4.2469 - val_acc: 0.2748\n",
      "Epoch 66/100\n",
      "50000/50000 [==============================] - 22s 437us/step - loss: 0.5646 - acc: 0.7959 - val_loss: 4.5119 - val_acc: 0.2818\n",
      "Epoch 67/100\n",
      "50000/50000 [==============================] - 22s 436us/step - loss: 0.5380 - acc: 0.8048 - val_loss: 4.4960 - val_acc: 0.2810\n",
      "Epoch 68/100\n",
      "50000/50000 [==============================] - 22s 436us/step - loss: 0.5533 - acc: 0.7982 - val_loss: 4.4164 - val_acc: 0.2805\n",
      "Epoch 69/100\n",
      "50000/50000 [==============================] - 22s 437us/step - loss: 0.4946 - acc: 0.8215 - val_loss: 4.6680 - val_acc: 0.2797\n",
      "Epoch 70/100\n",
      "50000/50000 [==============================] - 22s 437us/step - loss: 0.5609 - acc: 0.7978 - val_loss: 4.5818 - val_acc: 0.2787\n",
      "Epoch 71/100\n",
      "50000/50000 [==============================] - 22s 436us/step - loss: 0.4800 - acc: 0.8265 - val_loss: 4.8816 - val_acc: 0.2680\n",
      "Epoch 72/100\n",
      "50000/50000 [==============================] - 22s 442us/step - loss: 0.4959 - acc: 0.8199 - val_loss: 4.8030 - val_acc: 0.2838\n",
      "Epoch 73/100\n",
      "50000/50000 [==============================] - 22s 437us/step - loss: 0.4805 - acc: 0.8260 - val_loss: 4.8342 - val_acc: 0.2797\n",
      "Epoch 74/100\n",
      "50000/50000 [==============================] - 22s 437us/step - loss: 0.4626 - acc: 0.8324 - val_loss: 4.9384 - val_acc: 0.2807\n",
      "Epoch 75/100\n",
      "50000/50000 [==============================] - 22s 438us/step - loss: 0.4817 - acc: 0.8262 - val_loss: 4.9214 - val_acc: 0.2724\n",
      "Epoch 76/100\n",
      "50000/50000 [==============================] - 22s 438us/step - loss: 0.4626 - acc: 0.8336 - val_loss: 4.9399 - val_acc: 0.2734\n",
      "Epoch 77/100\n",
      "50000/50000 [==============================] - 22s 441us/step - loss: 0.4353 - acc: 0.8445 - val_loss: 5.0745 - val_acc: 0.2737\n",
      "Epoch 78/100\n",
      "50000/50000 [==============================] - 22s 445us/step - loss: 0.4455 - acc: 0.8397 - val_loss: 5.0872 - val_acc: 0.2762\n",
      "Epoch 79/100\n",
      "50000/50000 [==============================] - 23s 457us/step - loss: 0.4144 - acc: 0.8518 - val_loss: 5.2867 - val_acc: 0.2759\n",
      "Epoch 80/100\n",
      "50000/50000 [==============================] - 23s 454us/step - loss: 0.4427 - acc: 0.8427 - val_loss: 5.1010 - val_acc: 0.2743\n",
      "Epoch 81/100\n",
      "50000/50000 [==============================] - 23s 455us/step - loss: 0.4592 - acc: 0.8361 - val_loss: 5.1900 - val_acc: 0.2716\n",
      "Epoch 82/100\n",
      "50000/50000 [==============================] - 23s 456us/step - loss: 0.3928 - acc: 0.8581 - val_loss: 5.3450 - val_acc: 0.2774\n",
      "Epoch 83/100\n",
      "50000/50000 [==============================] - 23s 455us/step - loss: 0.4294 - acc: 0.8471 - val_loss: 5.2074 - val_acc: 0.2702\n",
      "Epoch 84/100\n",
      "50000/50000 [==============================] - 23s 455us/step - loss: 0.4003 - acc: 0.8576 - val_loss: 5.2688 - val_acc: 0.2647\n",
      "Epoch 85/100\n",
      "50000/50000 [==============================] - 23s 457us/step - loss: 0.4044 - acc: 0.8556 - val_loss: 5.3379 - val_acc: 0.2805\n",
      "Epoch 86/100\n",
      "50000/50000 [==============================] - 23s 457us/step - loss: 0.3826 - acc: 0.8647 - val_loss: 5.4498 - val_acc: 0.2754\n",
      "Epoch 87/100\n",
      "50000/50000 [==============================] - 23s 455us/step - loss: 0.4221 - acc: 0.8518 - val_loss: 5.1408 - val_acc: 0.2783\n",
      "Epoch 88/100\n",
      "50000/50000 [==============================] - 23s 457us/step - loss: 0.3873 - acc: 0.8623 - val_loss: 5.5315 - val_acc: 0.2709\n",
      "Epoch 89/100\n",
      "50000/50000 [==============================] - 23s 456us/step - loss: 0.3492 - acc: 0.8768 - val_loss: 5.4430 - val_acc: 0.2744\n",
      "Epoch 90/100\n",
      "50000/50000 [==============================] - 23s 456us/step - loss: 0.3407 - acc: 0.8802 - val_loss: 5.4674 - val_acc: 0.2757\n",
      "Epoch 91/100\n",
      "50000/50000 [==============================] - 23s 456us/step - loss: 0.4365 - acc: 0.8486 - val_loss: 5.5723 - val_acc: 0.2762\n",
      "Epoch 92/100\n",
      "50000/50000 [==============================] - 23s 458us/step - loss: 0.3397 - acc: 0.8783 - val_loss: 5.6553 - val_acc: 0.2802\n",
      "Epoch 93/100\n",
      "50000/50000 [==============================] - 24s 475us/step - loss: 0.3203 - acc: 0.8848 - val_loss: 5.8633 - val_acc: 0.2819\n",
      "Epoch 94/100\n",
      "50000/50000 [==============================] - 24s 476us/step - loss: 0.3267 - acc: 0.8844 - val_loss: 5.9374 - val_acc: 0.2780\n",
      "Epoch 95/100\n",
      "50000/50000 [==============================] - 24s 471us/step - loss: 0.3317 - acc: 0.8825 - val_loss: 5.7878 - val_acc: 0.2789\n",
      "Epoch 96/100\n",
      "50000/50000 [==============================] - 24s 475us/step - loss: 0.3185 - acc: 0.8877 - val_loss: 5.7772 - val_acc: 0.2732\n",
      "Epoch 97/100\n",
      "50000/50000 [==============================] - 23s 458us/step - loss: 0.3427 - acc: 0.8811 - val_loss: 5.9221 - val_acc: 0.2646\n",
      "Epoch 98/100\n",
      "50000/50000 [==============================] - 23s 461us/step - loss: 0.3901 - acc: 0.8666 - val_loss: 5.6391 - val_acc: 0.2814\n",
      "Epoch 99/100\n",
      "50000/50000 [==============================] - 23s 458us/step - loss: 0.3256 - acc: 0.8866 - val_loss: 5.7780 - val_acc: 0.2663\n",
      "Epoch 100/100\n",
      "50000/50000 [==============================] - 23s 457us/step - loss: 0.3020 - acc: 0.8940 - val_loss: 5.7863 - val_acc: 0.2845\n"
     ]
    },
    {
     "data": {
      "text/plain": [
       "<keras.callbacks.History at 0x18336ac8>"
      ]
     },
     "execution_count": 10,
     "metadata": {},
     "output_type": "execute_result"
    }
   ],
   "source": [
    "model.fit(x_train, y_train, \n",
    "          epochs=EPOCHS, \n",
    "          batch_size=BATCH_SIZE, \n",
    "          validation_data=(x_test, y_test), \n",
    "          shuffle=True)"
   ]
  },
  {
   "cell_type": "code",
   "execution_count": 12,
   "metadata": {},
   "outputs": [
    {
     "data": {
      "image/png": "[encoded data removed]",
      "text/plain": [
       "<Figure size 432x288 with 1 Axes>"
      ]
     },
     "metadata": {
      "needs_background": "light"
     },
     "output_type": "display_data"
    },
    {
     "data": {
      "image/png": "[encoded data removed]",
      "text/plain": [
       "<Figure size 432x288 with 1 Axes>"
      ]
     },
     "metadata": {
      "needs_background": "light"
     },
     "output_type": "display_data"
    }
   ],
   "source": [
    "import matplotlib.pyplot as plt\n",
    "\n",
    "\n",
    "train_loss = model.history.history[\"loss\"]\n",
    "valid_loss = model.history.history[\"val_loss\"]\n",
    "\n",
    "train_acc = model.history.history[\"acc\"]\n",
    "valid_acc = model.history.history[\"val_acc\"]\n",
    "\n",
    "plt.plot(range(len(train_loss)), train_loss, label=\"train loss\")\n",
    "plt.plot(range(len(valid_loss)), valid_loss, label=\"valid loss\")\n",
    "plt.legend()\n",
    "plt.title(\"Loss\")\n",
    "plt.show()\n",
    "\n",
    "plt.plot(range(len(train_acc)), train_acc, label=\"train accuracy\")\n",
    "plt.plot(range(len(valid_acc)), valid_acc, label=\"valid accuracy\")\n",
    "plt.legend()\n",
    "plt.title(\"Accuracy\")\n",
    "plt.show()"
   ]
  }
 ],
 "metadata": {
  "kernelspec": {
   "display_name": "Python 3",
   "language": "python",
   "name": "python3"
  },
  "language_info": {
   "codemirror_mode": {
    "name": "ipython",
    "version": 3
   },
   "file_extension": ".py",
   "mimetype": "text/x-python",
   "name": "python",
   "nbconvert_exporter": "python",
   "pygments_lexer": "ipython3",
   "version": "3.7.3"
  }
 },
 "nbformat": 4,
 "nbformat_minor": 2
}
