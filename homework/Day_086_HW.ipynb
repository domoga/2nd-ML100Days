{
 "cells": [
  {
   "cell_type": "markdown",
   "metadata": {},
   "source": [
    "## Work\n",
    "1. 試比較 save_best_only 與否的差異\n",
    "2. 請僅存入將 save_weights_only 設定為 True, 並嘗試 reset ipynb 並將模型與權重重新建回並預測 x_test"
   ]
  },
  {
   "cell_type": "code",
   "execution_count": 1,
   "metadata": {},
   "outputs": [
    {
     "name": "stderr",
     "output_type": "stream",
     "text": [
      "Using TensorFlow backend.\n"
     ]
    }
   ],
   "source": [
    "import os\n",
    "import keras\n",
    "\n",
    "# Disable GPU\n",
    "os.environ[\"CUDA_VISIBLE_DEVICES\"] = \"\""
   ]
  },
  {
   "cell_type": "code",
   "execution_count": 2,
   "metadata": {},
   "outputs": [],
   "source": [
    "train, test = keras.datasets.cifar10.load_data()"
   ]
  },
  {
   "cell_type": "code",
   "execution_count": 3,
   "metadata": {},
   "outputs": [],
   "source": [
    "## 資料前處理\n",
    "def preproc_x(x, flatten=True):\n",
    "    x = x / 255.\n",
    "    if flatten:\n",
    "        x = x.reshape((len(x), -1))\n",
    "    return x\n",
    "\n",
    "def preproc_y(y, num_classes=10):\n",
    "    if y.shape[-1] == 1:\n",
    "        y = keras.utils.to_categorical(y, num_classes)\n",
    "    return y    "
   ]
  },
  {
   "cell_type": "code",
   "execution_count": 4,
   "metadata": {},
   "outputs": [],
   "source": [
    "x_train, y_train = train\n",
    "x_test, y_test = test\n",
    "\n",
    "# Preproc the inputs\n",
    "x_train = preproc_x(x_train)\n",
    "x_test = preproc_x(x_test)\n",
    "\n",
    "# Preprc the outputs\n",
    "y_train = preproc_y(y_train)\n",
    "y_test = preproc_y(y_test)"
   ]
  },
  {
   "cell_type": "code",
   "execution_count": 5,
   "metadata": {},
   "outputs": [],
   "source": [
    "from keras.layers import BatchNormalization\n",
    "\n",
    "def build_mlp(input_shape, output_units=10, num_neurons=[512, 256, 128]):\n",
    "    input_layer = keras.layers.Input(input_shape)\n",
    "    \n",
    "    for i, n_units in enumerate(num_neurons):\n",
    "        if i == 0:\n",
    "            x = keras.layers.Dense(units=n_units, \n",
    "                                   activation=\"relu\", \n",
    "                                   name=\"hidden_layer\"+str(i+1))(input_layer)\n",
    "            x = BatchNormalization()(x)\n",
    "        else:\n",
    "            x = keras.layers.Dense(units=n_units, \n",
    "                                   activation=\"relu\", \n",
    "                                   name=\"hidden_layer\"+str(i+1))(x)\n",
    "            x = BatchNormalization()(x)\n",
    "    \n",
    "    out = keras.layers.Dense(units=output_units, activation=\"softmax\", name=\"output\")(x)\n",
    "    \n",
    "    model = keras.models.Model(inputs=[input_layer], outputs=[out])\n",
    "    return model"
   ]
  },
  {
   "cell_type": "code",
   "execution_count": 6,
   "metadata": {},
   "outputs": [],
   "source": [
    "## 超參數設定\n",
    "LEARNING_RATE = 1e-3\n",
    "EPOCHS = 50\n",
    "BATCH_SIZE = 1024\n",
    "MOMENTUM = 0.95"
   ]
  },
  {
   "cell_type": "code",
   "execution_count": 7,
   "metadata": {},
   "outputs": [
    {
     "name": "stderr",
     "output_type": "stream",
     "text": [
      "WARNING: Logging before flag parsing goes to stderr.\n",
      "W0722 23:21:17.958135 10068 deprecation_wrapper.py:119] From D:\\Anaconda3\\lib\\site-packages\\keras\\backend\\tensorflow_backend.py:74: The name tf.get_default_graph is deprecated. Please use tf.compat.v1.get_default_graph instead.\n",
      "\n",
      "W0722 23:21:18.012138 10068 deprecation_wrapper.py:119] From D:\\Anaconda3\\lib\\site-packages\\keras\\backend\\tensorflow_backend.py:517: The name tf.placeholder is deprecated. Please use tf.compat.v1.placeholder instead.\n",
      "\n",
      "W0722 23:21:18.014138 10068 deprecation_wrapper.py:119] From D:\\Anaconda3\\lib\\site-packages\\keras\\backend\\tensorflow_backend.py:4138: The name tf.random_uniform is deprecated. Please use tf.random.uniform instead.\n",
      "\n",
      "W0722 23:21:18.096143 10068 deprecation_wrapper.py:119] From D:\\Anaconda3\\lib\\site-packages\\keras\\backend\\tensorflow_backend.py:133: The name tf.placeholder_with_default is deprecated. Please use tf.compat.v1.placeholder_with_default instead.\n",
      "\n",
      "W0722 23:21:18.372159 10068 deprecation_wrapper.py:119] From D:\\Anaconda3\\lib\\site-packages\\keras\\optimizers.py:790: The name tf.train.Optimizer is deprecated. Please use tf.compat.v1.train.Optimizer instead.\n",
      "\n",
      "W0722 23:21:18.380159 10068 deprecation_wrapper.py:119] From D:\\Anaconda3\\lib\\site-packages\\keras\\backend\\tensorflow_backend.py:3295: The name tf.log is deprecated. Please use tf.math.log instead.\n",
      "\n",
      "W0722 23:21:18.476164 10068 deprecation.py:323] From D:\\Anaconda3\\lib\\site-packages\\tensorflow\\python\\ops\\math_grad.py:1250: add_dispatch_support.<locals>.wrapper (from tensorflow.python.ops.array_ops) is deprecated and will be removed in a future version.\n",
      "Instructions for updating:\n",
      "Use tf.where in 2.0, which has the same broadcast rule as np.where\n"
     ]
    },
    {
     "name": "stdout",
     "output_type": "stream",
     "text": [
      "_________________________________________________________________\n",
      "Layer (type)                 Output Shape              Param #   \n",
      "=================================================================\n",
      "input_1 (InputLayer)         (None, 3072)              0         \n",
      "_________________________________________________________________\n",
      "hidden_layer1 (Dense)        (None, 512)               1573376   \n",
      "_________________________________________________________________\n",
      "batch_normalization_1 (Batch (None, 512)               2048      \n",
      "_________________________________________________________________\n",
      "hidden_layer2 (Dense)        (None, 256)               131328    \n",
      "_________________________________________________________________\n",
      "batch_normalization_2 (Batch (None, 256)               1024      \n",
      "_________________________________________________________________\n",
      "hidden_layer3 (Dense)        (None, 128)               32896     \n",
      "_________________________________________________________________\n",
      "batch_normalization_3 (Batch (None, 128)               512       \n",
      "_________________________________________________________________\n",
      "output (Dense)               (None, 10)                1290      \n",
      "=================================================================\n",
      "Total params: 1,742,474\n",
      "Trainable params: 1,740,682\n",
      "Non-trainable params: 1,792\n",
      "_________________________________________________________________\n",
      "Train on 50000 samples, validate on 10000 samples\n",
      "Epoch 1/50\n",
      "50000/50000 [==============================] - 14s 284us/step - loss: 2.2306 - acc: 0.2660 - val_loss: 2.1637 - val_acc: 0.3181\n",
      "Epoch 2/50\n",
      "50000/50000 [==============================] - 14s 276us/step - loss: 1.7557 - acc: 0.3882 - val_loss: 1.8193 - val_acc: 0.3697\n",
      "Epoch 3/50\n",
      "50000/50000 [==============================] - 15s 301us/step - loss: 1.6249 - acc: 0.4302 - val_loss: 1.6915 - val_acc: 0.4081\n",
      "Epoch 4/50\n",
      "50000/50000 [==============================] - 15s 301us/step - loss: 1.5493 - acc: 0.4568 - val_loss: 1.6353 - val_acc: 0.4276\n",
      "Epoch 5/50\n",
      "50000/50000 [==============================] - 15s 301us/step - loss: 1.4919 - acc: 0.4793 - val_loss: 1.5918 - val_acc: 0.4428\n",
      "Epoch 6/50\n",
      "50000/50000 [==============================] - 15s 301us/step - loss: 1.4443 - acc: 0.4947 - val_loss: 1.5622 - val_acc: 0.4478\n",
      "Epoch 7/50\n",
      "50000/50000 [==============================] - 15s 302us/step - loss: 1.4035 - acc: 0.5100 - val_loss: 1.5485 - val_acc: 0.4561\n",
      "Epoch 8/50\n",
      "50000/50000 [==============================] - 15s 302us/step - loss: 1.3677 - acc: 0.5233 - val_loss: 1.5452 - val_acc: 0.4554\n",
      "Epoch 9/50\n",
      "50000/50000 [==============================] - 15s 303us/step - loss: 1.3367 - acc: 0.5350 - val_loss: 1.5189 - val_acc: 0.4656\n",
      "Epoch 10/50\n",
      "50000/50000 [==============================] - 15s 300us/step - loss: 1.3055 - acc: 0.5464 - val_loss: 1.5058 - val_acc: 0.4623\n",
      "Epoch 11/50\n",
      "50000/50000 [==============================] - 15s 301us/step - loss: 1.2765 - acc: 0.5564 - val_loss: 1.5004 - val_acc: 0.4705\n",
      "Epoch 12/50\n",
      "50000/50000 [==============================] - 16s 311us/step - loss: 1.2492 - acc: 0.5675 - val_loss: 1.4873 - val_acc: 0.4692\n",
      "Epoch 13/50\n",
      "50000/50000 [==============================] - 15s 300us/step - loss: 1.2254 - acc: 0.5757 - val_loss: 1.4908 - val_acc: 0.4775\n",
      "Epoch 14/50\n",
      "50000/50000 [==============================] - 15s 300us/step - loss: 1.1984 - acc: 0.5881 - val_loss: 1.4807 - val_acc: 0.4746\n",
      "Epoch 15/50\n",
      "50000/50000 [==============================] - 15s 301us/step - loss: 1.1735 - acc: 0.5955 - val_loss: 1.4745 - val_acc: 0.4857\n",
      "Epoch 16/50\n",
      "50000/50000 [==============================] - 15s 301us/step - loss: 1.1506 - acc: 0.6035 - val_loss: 1.4731 - val_acc: 0.4827\n",
      "Epoch 17/50\n",
      "50000/50000 [==============================] - 15s 303us/step - loss: 1.1295 - acc: 0.6137 - val_loss: 1.4726 - val_acc: 0.4774\n",
      "Epoch 18/50\n",
      "50000/50000 [==============================] - 15s 301us/step - loss: 1.1071 - acc: 0.6198 - val_loss: 1.4637 - val_acc: 0.4844\n",
      "Epoch 19/50\n",
      "50000/50000 [==============================] - 15s 302us/step - loss: 1.0836 - acc: 0.6303 - val_loss: 1.4627 - val_acc: 0.4863\n",
      "Epoch 20/50\n",
      "50000/50000 [==============================] - 15s 301us/step - loss: 1.0615 - acc: 0.6388 - val_loss: 1.4590 - val_acc: 0.4892\n",
      "Epoch 21/50\n",
      "50000/50000 [==============================] - 15s 302us/step - loss: 1.0390 - acc: 0.6464 - val_loss: 1.4565 - val_acc: 0.4912\n",
      "Epoch 22/50\n",
      "50000/50000 [==============================] - 15s 302us/step - loss: 1.0181 - acc: 0.6547 - val_loss: 1.4799 - val_acc: 0.4844\n",
      "Epoch 23/50\n",
      "50000/50000 [==============================] - 16s 312us/step - loss: 0.9980 - acc: 0.6629 - val_loss: 1.4665 - val_acc: 0.4920\n",
      "Epoch 24/50\n",
      "50000/50000 [==============================] - 16s 319us/step - loss: 0.9763 - acc: 0.6712 - val_loss: 1.4689 - val_acc: 0.4923\n",
      "Epoch 25/50\n",
      "50000/50000 [==============================] - 16s 316us/step - loss: 0.9551 - acc: 0.6789 - val_loss: 1.4736 - val_acc: 0.4888\n",
      "Epoch 26/50\n",
      "50000/50000 [==============================] - 16s 313us/step - loss: 0.9357 - acc: 0.6861 - val_loss: 1.4702 - val_acc: 0.4935\n",
      "Epoch 27/50\n",
      "50000/50000 [==============================] - 15s 307us/step - loss: 0.9136 - acc: 0.6964 - val_loss: 1.4758 - val_acc: 0.4902\n",
      "Epoch 28/50\n",
      "50000/50000 [==============================] - 16s 319us/step - loss: 0.8938 - acc: 0.7022 - val_loss: 1.4931 - val_acc: 0.4895\n",
      "Epoch 29/50\n",
      "50000/50000 [==============================] - 16s 313us/step - loss: 0.8758 - acc: 0.7102 - val_loss: 1.5029 - val_acc: 0.4907\n",
      "Epoch 30/50\n",
      "50000/50000 [==============================] - 15s 301us/step - loss: 0.8552 - acc: 0.7180 - val_loss: 1.4935 - val_acc: 0.4946\n",
      "Epoch 31/50\n",
      "50000/50000 [==============================] - 15s 304us/step - loss: 0.8336 - acc: 0.7278 - val_loss: 1.5031 - val_acc: 0.4946\n",
      "Epoch 32/50\n",
      "50000/50000 [==============================] - 15s 308us/step - loss: 0.8168 - acc: 0.7327 - val_loss: 1.5109 - val_acc: 0.4926\n",
      "Epoch 33/50\n",
      "50000/50000 [==============================] - 15s 302us/step - loss: 0.7968 - acc: 0.7427 - val_loss: 1.5059 - val_acc: 0.4919\n",
      "Epoch 34/50\n",
      "50000/50000 [==============================] - 15s 299us/step - loss: 0.7769 - acc: 0.7483 - val_loss: 1.5229 - val_acc: 0.4921\n",
      "Epoch 35/50\n",
      "50000/50000 [==============================] - 15s 300us/step - loss: 0.7580 - acc: 0.7578 - val_loss: 1.5393 - val_acc: 0.4850\n",
      "Epoch 36/50\n",
      "50000/50000 [==============================] - 15s 301us/step - loss: 0.7384 - acc: 0.7634 - val_loss: 1.5323 - val_acc: 0.4933\n",
      "Epoch 37/50\n",
      "50000/50000 [==============================] - 15s 301us/step - loss: 0.7202 - acc: 0.7719 - val_loss: 1.5420 - val_acc: 0.4889\n",
      "Epoch 38/50\n",
      "50000/50000 [==============================] - 15s 299us/step - loss: 0.7007 - acc: 0.7797 - val_loss: 1.5504 - val_acc: 0.4889\n",
      "Epoch 39/50\n",
      "50000/50000 [==============================] - 15s 300us/step - loss: 0.6820 - acc: 0.7883 - val_loss: 1.5719 - val_acc: 0.4908\n",
      "Epoch 40/50\n",
      "50000/50000 [==============================] - 15s 301us/step - loss: 0.6641 - acc: 0.7953 - val_loss: 1.5640 - val_acc: 0.4887\n",
      "Epoch 41/50\n",
      "50000/50000 [==============================] - 15s 303us/step - loss: 0.6463 - acc: 0.8016 - val_loss: 1.5828 - val_acc: 0.4898\n",
      "Epoch 42/50\n",
      "50000/50000 [==============================] - 15s 300us/step - loss: 0.6296 - acc: 0.8081 - val_loss: 1.6004 - val_acc: 0.4867\n",
      "Epoch 43/50\n",
      "50000/50000 [==============================] - 15s 300us/step - loss: 0.6097 - acc: 0.8165 - val_loss: 1.5985 - val_acc: 0.4878\n",
      "Epoch 44/50\n",
      "50000/50000 [==============================] - 15s 301us/step - loss: 0.5916 - acc: 0.8217 - val_loss: 1.6189 - val_acc: 0.4826\n",
      "Epoch 45/50\n",
      "50000/50000 [==============================] - 15s 300us/step - loss: 0.5752 - acc: 0.8291 - val_loss: 1.6423 - val_acc: 0.4909\n",
      "Epoch 46/50\n",
      "50000/50000 [==============================] - 15s 300us/step - loss: 0.5561 - acc: 0.8382 - val_loss: 1.6331 - val_acc: 0.4837\n",
      "Epoch 47/50\n",
      "50000/50000 [==============================] - 15s 302us/step - loss: 0.5409 - acc: 0.8429 - val_loss: 1.6325 - val_acc: 0.4862\n",
      "Epoch 48/50\n",
      "50000/50000 [==============================] - 15s 301us/step - loss: 0.5235 - acc: 0.8514 - val_loss: 1.6524 - val_acc: 0.4857\n",
      "Epoch 49/50\n"
     ]
    },
    {
     "name": "stdout",
     "output_type": "stream",
     "text": [
      "50000/50000 [==============================] - 15s 302us/step - loss: 0.5066 - acc: 0.8555 - val_loss: 1.6826 - val_acc: 0.4810\n",
      "Epoch 50/50\n",
      "50000/50000 [==============================] - 15s 301us/step - loss: 0.4903 - acc: 0.8641 - val_loss: 1.7019 - val_acc: 0.4819\n",
      "10000/10000 [==============================] - 3s 251us/step\n"
     ]
    }
   ],
   "source": [
    "# 載入 Callbacks\n",
    "\n",
    "from keras.callbacks import ModelCheckpoint\n",
    "\n",
    "model_ckpt = ModelCheckpoint(filepath=\"./tmp.h5\", \n",
    "                             monitor=\"val_loss\", \n",
    "                             save_best_only=True)\n",
    "\n",
    "\n",
    "model = build_mlp(input_shape=x_train.shape[1:])\n",
    "model.summary()\n",
    "optimizer = keras.optimizers.SGD(lr=LEARNING_RATE, nesterov=True, momentum=MOMENTUM)\n",
    "model.compile(loss=\"categorical_crossentropy\", metrics=[\"accuracy\"], optimizer=optimizer)\n",
    "\n",
    "model.fit(x_train, y_train, \n",
    "          epochs=EPOCHS, \n",
    "          batch_size=BATCH_SIZE, \n",
    "          validation_data=(x_test, y_test), \n",
    "          shuffle=True,\n",
    "          callbacks=[model_ckpt]\n",
    "         )\n",
    "\n",
    "# Collect results\n",
    "train_loss = model.history.history[\"loss\"]\n",
    "valid_loss = model.history.history[\"val_loss\"]\n",
    "train_acc = model.history.history[\"acc\"]\n",
    "valid_acc = model.history.history[\"val_acc\"]\n",
    "\n",
    "# Load back\n",
    "model = keras.models.load_model(\"./tmp.h5\")\n",
    "loss_loadback, acc_loadback = model.evaluate(x_test, y_test)"
   ]
  },
  {
   "cell_type": "code",
   "execution_count": 8,
   "metadata": {
    "scrolled": false
   },
   "outputs": [
    {
     "data": {
      "image/png": "[encoded data removed]",
      "text/plain": [
       "<Figure size 432x288 with 1 Axes>"
      ]
     },
     "metadata": {
      "needs_background": "light"
     },
     "output_type": "display_data"
    },
    {
     "data": {
      "image/png": "[encoded data removed]",
      "text/plain": [
       "<Figure size 432x288 with 1 Axes>"
      ]
     },
     "metadata": {
      "needs_background": "light"
     },
     "output_type": "display_data"
    }
   ],
   "source": [
    "import matplotlib.pyplot as plt\n",
    "%matplotlib inline\n",
    "\n",
    "plt.plot(range(len(train_loss)), train_loss, label=\"train loss\")\n",
    "plt.plot(range(len(valid_loss)), valid_loss, label=\"valid loss\")\n",
    "plt.hlines(y=loss_loadback, xmin=0, xmax=len(train_loss), colors='r', linestyles='--')\n",
    "plt.legend()\n",
    "plt.title(\"Loss\")\n",
    "plt.show()\n",
    "\n",
    "plt.plot(range(len(train_acc)), train_acc, label=\"train accuracy\")\n",
    "plt.plot(range(len(valid_acc)), valid_acc, label=\"valid accuracy\")\n",
    "plt.hlines(y=acc_loadback, xmin=0, xmax=len(train_loss), colors='r', linestyles='--')\n",
    "plt.legend()\n",
    "plt.title(\"Accuracy\")\n",
    "plt.show()"
   ]
  },
  {
   "cell_type": "code",
   "execution_count": 9,
   "metadata": {},
   "outputs": [
    {
     "name": "stdout",
     "output_type": "stream",
     "text": [
      "_________________________________________________________________\n",
      "Layer (type)                 Output Shape              Param #   \n",
      "=================================================================\n",
      "input_2 (InputLayer)         (None, 3072)              0         \n",
      "_________________________________________________________________\n",
      "hidden_layer1 (Dense)        (None, 512)               1573376   \n",
      "_________________________________________________________________\n",
      "batch_normalization_4 (Batch (None, 512)               2048      \n",
      "_________________________________________________________________\n",
      "hidden_layer2 (Dense)        (None, 256)               131328    \n",
      "_________________________________________________________________\n",
      "batch_normalization_5 (Batch (None, 256)               1024      \n",
      "_________________________________________________________________\n",
      "hidden_layer3 (Dense)        (None, 128)               32896     \n",
      "_________________________________________________________________\n",
      "batch_normalization_6 (Batch (None, 128)               512       \n",
      "_________________________________________________________________\n",
      "output (Dense)               (None, 10)                1290      \n",
      "=================================================================\n",
      "Total params: 1,742,474\n",
      "Trainable params: 1,740,682\n",
      "Non-trainable params: 1,792\n",
      "_________________________________________________________________\n",
      "Train on 50000 samples, validate on 10000 samples\n",
      "Epoch 1/50\n",
      "50000/50000 [==============================] - 17s 342us/step - loss: 2.2213 - acc: 0.2654 - val_loss: 2.2006 - val_acc: 0.3226\n",
      "Epoch 2/50\n",
      "50000/50000 [==============================] - 15s 305us/step - loss: 1.7414 - acc: 0.3944 - val_loss: 1.7891 - val_acc: 0.3882\n",
      "Epoch 3/50\n",
      "50000/50000 [==============================] - 15s 302us/step - loss: 1.6161 - acc: 0.4354 - val_loss: 1.6973 - val_acc: 0.4094\n",
      "Epoch 4/50\n",
      "50000/50000 [==============================] - 15s 303us/step - loss: 1.5431 - acc: 0.4590 - val_loss: 1.6249 - val_acc: 0.4348\n",
      "Epoch 5/50\n",
      "50000/50000 [==============================] - 15s 302us/step - loss: 1.4903 - acc: 0.4798 - val_loss: 1.6025 - val_acc: 0.4366\n",
      "Epoch 6/50\n",
      "50000/50000 [==============================] - 15s 304us/step - loss: 1.4446 - acc: 0.4967 - val_loss: 1.5707 - val_acc: 0.4504\n",
      "Epoch 7/50\n",
      "50000/50000 [==============================] - 15s 304us/step - loss: 1.4082 - acc: 0.5083 - val_loss: 1.5441 - val_acc: 0.4557\n",
      "Epoch 8/50\n",
      "50000/50000 [==============================] - 15s 303us/step - loss: 1.3715 - acc: 0.5215 - val_loss: 1.5306 - val_acc: 0.4635\n",
      "Epoch 9/50\n",
      "50000/50000 [==============================] - 15s 304us/step - loss: 1.3394 - acc: 0.5343 - val_loss: 1.5145 - val_acc: 0.4679\n",
      "Epoch 10/50\n",
      "50000/50000 [==============================] - 15s 307us/step - loss: 1.3098 - acc: 0.5437 - val_loss: 1.4989 - val_acc: 0.4702\n",
      "Epoch 11/50\n",
      "50000/50000 [==============================] - 15s 305us/step - loss: 1.2817 - acc: 0.5562 - val_loss: 1.5022 - val_acc: 0.4726\n",
      "Epoch 12/50\n",
      "50000/50000 [==============================] - 15s 303us/step - loss: 1.2560 - acc: 0.5669 - val_loss: 1.4918 - val_acc: 0.4824\n",
      "Epoch 13/50\n",
      "50000/50000 [==============================] - 15s 304us/step - loss: 1.2286 - acc: 0.5766 - val_loss: 1.4823 - val_acc: 0.4780\n",
      "Epoch 14/50\n",
      "50000/50000 [==============================] - 15s 302us/step - loss: 1.2049 - acc: 0.5845 - val_loss: 1.4822 - val_acc: 0.4794\n",
      "Epoch 15/50\n",
      "50000/50000 [==============================] - 15s 303us/step - loss: 1.1803 - acc: 0.5935 - val_loss: 1.4698 - val_acc: 0.4821\n",
      "Epoch 16/50\n",
      "50000/50000 [==============================] - 15s 305us/step - loss: 1.1570 - acc: 0.6030 - val_loss: 1.4594 - val_acc: 0.4888\n",
      "Epoch 17/50\n",
      "50000/50000 [==============================] - 15s 303us/step - loss: 1.1328 - acc: 0.6122 - val_loss: 1.4707 - val_acc: 0.4850\n",
      "Epoch 18/50\n",
      "50000/50000 [==============================] - 15s 302us/step - loss: 1.1111 - acc: 0.6186 - val_loss: 1.4540 - val_acc: 0.4913\n",
      "Epoch 19/50\n",
      "50000/50000 [==============================] - 15s 302us/step - loss: 1.0895 - acc: 0.6293 - val_loss: 1.4625 - val_acc: 0.4890\n",
      "Epoch 20/50\n",
      "50000/50000 [==============================] - 15s 307us/step - loss: 1.0675 - acc: 0.6369 - val_loss: 1.4453 - val_acc: 0.4970\n",
      "Epoch 21/50\n",
      "50000/50000 [==============================] - 15s 305us/step - loss: 1.0446 - acc: 0.6470 - val_loss: 1.4775 - val_acc: 0.4836\n",
      "Epoch 22/50\n",
      "50000/50000 [==============================] - 15s 305us/step - loss: 1.0242 - acc: 0.6522 - val_loss: 1.4513 - val_acc: 0.4982\n",
      "Epoch 23/50\n",
      "50000/50000 [==============================] - 15s 308us/step - loss: 1.0047 - acc: 0.6600 - val_loss: 1.4576 - val_acc: 0.4932\n",
      "Epoch 24/50\n",
      "50000/50000 [==============================] - 15s 303us/step - loss: 0.9837 - acc: 0.6691 - val_loss: 1.4517 - val_acc: 0.4970\n",
      "Epoch 25/50\n",
      "50000/50000 [==============================] - 15s 304us/step - loss: 0.9626 - acc: 0.6770 - val_loss: 1.4580 - val_acc: 0.4955\n",
      "Epoch 26/50\n",
      "50000/50000 [==============================] - 15s 304us/step - loss: 0.9437 - acc: 0.6836 - val_loss: 1.4724 - val_acc: 0.4884\n",
      "Epoch 27/50\n",
      "50000/50000 [==============================] - 15s 304us/step - loss: 0.9225 - acc: 0.6940 - val_loss: 1.4651 - val_acc: 0.4943\n",
      "Epoch 28/50\n",
      "50000/50000 [==============================] - 15s 304us/step - loss: 0.9023 - acc: 0.7011 - val_loss: 1.4691 - val_acc: 0.4941\n",
      "Epoch 29/50\n",
      "50000/50000 [==============================] - 15s 306us/step - loss: 0.8829 - acc: 0.7076 - val_loss: 1.4735 - val_acc: 0.4982\n",
      "Epoch 30/50\n",
      "50000/50000 [==============================] - 15s 304us/step - loss: 0.8648 - acc: 0.7125 - val_loss: 1.4882 - val_acc: 0.4972\n",
      "Epoch 31/50\n",
      "50000/50000 [==============================] - 15s 304us/step - loss: 0.8453 - acc: 0.7207 - val_loss: 1.4909 - val_acc: 0.4953\n",
      "Epoch 32/50\n",
      "50000/50000 [==============================] - 15s 305us/step - loss: 0.8224 - acc: 0.7316 - val_loss: 1.5090 - val_acc: 0.4909\n",
      "Epoch 33/50\n",
      "50000/50000 [==============================] - 15s 305us/step - loss: 0.8044 - acc: 0.7376 - val_loss: 1.4940 - val_acc: 0.4978\n",
      "Epoch 34/50\n",
      "50000/50000 [==============================] - 15s 305us/step - loss: 0.7855 - acc: 0.7436 - val_loss: 1.5146 - val_acc: 0.4895\n",
      "Epoch 35/50\n",
      "50000/50000 [==============================] - 15s 305us/step - loss: 0.7672 - acc: 0.7524 - val_loss: 1.5142 - val_acc: 0.4918\n",
      "Epoch 36/50\n",
      "50000/50000 [==============================] - 15s 306us/step - loss: 0.7481 - acc: 0.7597 - val_loss: 1.5447 - val_acc: 0.4848\n",
      "Epoch 37/50\n",
      "50000/50000 [==============================] - 15s 308us/step - loss: 0.7276 - acc: 0.7697 - val_loss: 1.5247 - val_acc: 0.4895\n",
      "Epoch 38/50\n",
      "50000/50000 [==============================] - 15s 304us/step - loss: 0.7090 - acc: 0.7756 - val_loss: 1.5271 - val_acc: 0.4935\n",
      "Epoch 39/50\n",
      "50000/50000 [==============================] - 15s 306us/step - loss: 0.6912 - acc: 0.7823 - val_loss: 1.5438 - val_acc: 0.4956\n",
      "Epoch 40/50\n",
      "50000/50000 [==============================] - 15s 307us/step - loss: 0.6726 - acc: 0.7900 - val_loss: 1.5582 - val_acc: 0.4903\n",
      "Epoch 41/50\n",
      "50000/50000 [==============================] - 15s 305us/step - loss: 0.6538 - acc: 0.7996 - val_loss: 1.5615 - val_acc: 0.4920\n",
      "Epoch 42/50\n",
      "50000/50000 [==============================] - 15s 303us/step - loss: 0.6372 - acc: 0.8041 - val_loss: 1.5754 - val_acc: 0.4918\n",
      "Epoch 43/50\n",
      "50000/50000 [==============================] - 15s 308us/step - loss: 0.6183 - acc: 0.8128 - val_loss: 1.5851 - val_acc: 0.4947\n",
      "Epoch 44/50\n",
      "50000/50000 [==============================] - 15s 305us/step - loss: 0.6027 - acc: 0.8192 - val_loss: 1.6067 - val_acc: 0.4886\n",
      "Epoch 45/50\n",
      "50000/50000 [==============================] - 15s 304us/step - loss: 0.5861 - acc: 0.8237 - val_loss: 1.6129 - val_acc: 0.4875\n",
      "Epoch 46/50\n",
      "50000/50000 [==============================] - 15s 304us/step - loss: 0.5673 - acc: 0.8337 - val_loss: 1.6265 - val_acc: 0.4885\n",
      "Epoch 47/50\n",
      "50000/50000 [==============================] - 15s 302us/step - loss: 0.5518 - acc: 0.8370 - val_loss: 1.6518 - val_acc: 0.4862\n",
      "Epoch 48/50\n",
      "50000/50000 [==============================] - 15s 303us/step - loss: 0.5358 - acc: 0.8438 - val_loss: 1.6487 - val_acc: 0.4890\n",
      "Epoch 49/50\n"
     ]
    },
    {
     "name": "stdout",
     "output_type": "stream",
     "text": [
      "50000/50000 [==============================] - 16s 313us/step - loss: 0.5173 - acc: 0.8528 - val_loss: 1.6625 - val_acc: 0.4938\n",
      "Epoch 50/50\n",
      "50000/50000 [==============================] - 15s 306us/step - loss: 0.5007 - acc: 0.8581 - val_loss: 1.6843 - val_acc: 0.4849\n",
      "10000/10000 [==============================] - 3s 290us/step\n"
     ]
    }
   ],
   "source": [
    "# 載入 Callbacks\n",
    "\n",
    "from keras.callbacks import ModelCheckpoint\n",
    "\n",
    "model_ckpt = ModelCheckpoint(filepath=\"./tmp.h5\", \n",
    "                             monitor=\"val_loss\", \n",
    "                             save_best_only=False)\n",
    "\n",
    "\n",
    "model = build_mlp(input_shape=x_train.shape[1:])\n",
    "model.summary()\n",
    "optimizer = keras.optimizers.SGD(lr=LEARNING_RATE, nesterov=True, momentum=MOMENTUM)\n",
    "model.compile(loss=\"categorical_crossentropy\", metrics=[\"accuracy\"], optimizer=optimizer)\n",
    "\n",
    "model.fit(x_train, y_train, \n",
    "          epochs=EPOCHS, \n",
    "          batch_size=BATCH_SIZE, \n",
    "          validation_data=(x_test, y_test), \n",
    "          shuffle=True,\n",
    "          callbacks=[model_ckpt]\n",
    "         )\n",
    "\n",
    "# Collect results\n",
    "train_loss = model.history.history[\"loss\"]\n",
    "valid_loss = model.history.history[\"val_loss\"]\n",
    "train_acc = model.history.history[\"acc\"]\n",
    "valid_acc = model.history.history[\"val_acc\"]\n",
    "\n",
    "# Load back\n",
    "model = keras.models.load_model(\"./tmp.h5\")\n",
    "loss_loadback, acc_loadback = model.evaluate(x_test, y_test)"
   ]
  },
  {
   "cell_type": "code",
   "execution_count": 10,
   "metadata": {},
   "outputs": [
    {
     "data": {
      "image/png": "[encoded data removed]",
      "text/plain": [
       "<Figure size 432x288 with 1 Axes>"
      ]
     },
     "metadata": {
      "needs_background": "light"
     },
     "output_type": "display_data"
    },
    {
     "data": {
      "image/png": "[encoded data removed]",
      "text/plain": [
       "<Figure size 432x288 with 1 Axes>"
      ]
     },
     "metadata": {
      "needs_background": "light"
     },
     "output_type": "display_data"
    }
   ],
   "source": [
    "import matplotlib.pyplot as plt\n",
    "%matplotlib inline\n",
    "\n",
    "plt.plot(range(len(train_loss)), train_loss, label=\"train loss\")\n",
    "plt.plot(range(len(valid_loss)), valid_loss, label=\"valid loss\")\n",
    "plt.hlines(y=loss_loadback, xmin=0, xmax=len(train_loss), colors='r', linestyles='--')\n",
    "plt.legend()\n",
    "plt.title(\"Loss\")\n",
    "plt.show()\n",
    "\n",
    "plt.plot(range(len(train_acc)), train_acc, label=\"train accuracy\")\n",
    "plt.plot(range(len(valid_acc)), valid_acc, label=\"valid accuracy\")\n",
    "plt.hlines(y=acc_loadback, xmin=0, xmax=len(train_loss), colors='r', linestyles='--')\n",
    "plt.legend()\n",
    "plt.title(\"Accuracy\")\n",
    "plt.show()"
   ]
  }
 ],
 "metadata": {
  "kernelspec": {
   "display_name": "Python 3",
   "language": "python",
   "name": "python3"
  },
  "language_info": {
   "codemirror_mode": {
    "name": "ipython",
    "version": 3
   },
   "file_extension": ".py",
   "mimetype": "text/x-python",
   "name": "python",
   "nbconvert_exporter": "python",
   "pygments_lexer": "ipython3",
   "version": "3.7.3"
  }
 },
 "nbformat": 4,
 "nbformat_minor": 2
}
